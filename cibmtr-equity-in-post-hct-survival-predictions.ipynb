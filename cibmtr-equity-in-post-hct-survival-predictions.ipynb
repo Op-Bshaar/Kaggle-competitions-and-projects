{
 "cells": [
  {
   "cell_type": "code",
   "execution_count": 1,
   "id": "7e2d3581",
   "metadata": {
    "_cell_guid": "b1076dfc-b9ad-4769-8c92-a6c4dae69d19",
    "_uuid": "8f2839f25d086af736a60e9eeb907d3b93b6e0e5",
    "execution": {
     "iopub.execute_input": "2025-07-16T12:30:38.101646Z",
     "iopub.status.busy": "2025-07-16T12:30:38.101289Z",
     "iopub.status.idle": "2025-07-16T12:30:39.152354Z",
     "shell.execute_reply": "2025-07-16T12:30:39.150832Z"
    },
    "papermill": {
     "duration": 1.061775,
     "end_time": "2025-07-16T12:30:39.154332",
     "exception": false,
     "start_time": "2025-07-16T12:30:38.092557",
     "status": "completed"
    },
    "tags": []
   },
   "outputs": [
    {
     "name": "stdout",
     "output_type": "stream",
     "text": [
      "/kaggle/input/equity-post-HCT-survival-predictions/sample_submission.csv\n",
      "/kaggle/input/equity-post-HCT-survival-predictions/data_dictionary.csv\n",
      "/kaggle/input/equity-post-HCT-survival-predictions/train.csv\n",
      "/kaggle/input/equity-post-HCT-survival-predictions/test.csv\n"
     ]
    }
   ],
   "source": [
    "# This Python 3 environment comes with many helpful analytics libraries installed\n",
    "# It is defined by the kaggle/python Docker image: https://github.com/kaggle/docker-python\n",
    "# For example, here's several helpful packages to load\n",
    "\n",
    "import numpy as np # linear algebra\n",
    "import pandas as pd # data processing, CSV file I/O (e.g. pd.read_csv)\n",
    "\n",
    "# Input data files are available in the read-only \"../input/\" directory\n",
    "# For example, running this (by clicking run or pressing Shift+Enter) will list all files under the input directory\n",
    "\n",
    "import os\n",
    "for dirname, _, filenames in os.walk('/kaggle/input'):\n",
    "    for filename in filenames:\n",
    "        print(os.path.join(dirname, filename))\n",
    "\n",
    "# You can write up to 20GB to the current directory (/kaggle/working/) that gets preserved as output when you create a version using \"Save & Run All\" \n",
    "# You can also write temporary files to /kaggle/temp/, but they won't be saved outside of the current session"
   ]
  },
  {
   "cell_type": "code",
   "execution_count": 2,
   "id": "7b57ca06",
   "metadata": {
    "execution": {
     "iopub.execute_input": "2025-07-16T12:30:39.168242Z",
     "iopub.status.busy": "2025-07-16T12:30:39.167637Z",
     "iopub.status.idle": "2025-07-16T12:30:42.484299Z",
     "shell.execute_reply": "2025-07-16T12:30:42.482963Z"
    },
    "papermill": {
     "duration": 3.325085,
     "end_time": "2025-07-16T12:30:42.486090",
     "exception": false,
     "start_time": "2025-07-16T12:30:39.161005",
     "status": "completed"
    },
    "tags": []
   },
   "outputs": [
    {
     "name": "stdout",
     "output_type": "stream",
     "text": [
      "Train shape: (28800, 60)\n",
      "Test shape: (3, 58)\n"
     ]
    }
   ],
   "source": [
    "\n",
    "import pandas as pd\n",
    "import numpy as np\n",
    "import matplotlib.pyplot as plt\n",
    "import seaborn as sns\n",
    "import xgboost as xgb\n",
    "\n",
    "from sklearn.pipeline import Pipeline\n",
    "from sklearn.impute import SimpleImputer\n",
    "from sklearn.preprocessing import StandardScaler\n",
    "\n",
    "from sklearn.metrics import roc_auc_score\n",
    "from sklearn.model_selection import GridSearchCV, KFold, train_test_split\n",
    "from sklearn.preprocessing import LabelEncoder\n",
    "\n",
    "sns.set(style=\"whitegrid\")\n",
    "\n",
    "train_df = pd.read_csv(\"/kaggle/input/equity-post-HCT-survival-predictions/train.csv\")\n",
    "test_df = pd.read_csv(\"/kaggle/input/equity-post-HCT-survival-predictions/test.csv\")\n",
    "\n",
    "print(\"Train shape:\", train_df.shape)\n",
    "print(\"Test shape:\", test_df.shape)\n",
    "\n"
   ]
  },
  {
   "cell_type": "code",
   "execution_count": 3,
   "id": "7fbf6486",
   "metadata": {
    "execution": {
     "iopub.execute_input": "2025-07-16T12:30:42.499353Z",
     "iopub.status.busy": "2025-07-16T12:30:42.498905Z",
     "iopub.status.idle": "2025-07-16T12:30:42.625460Z",
     "shell.execute_reply": "2025-07-16T12:30:42.624284Z"
    },
    "papermill": {
     "duration": 0.135431,
     "end_time": "2025-07-16T12:30:42.627669",
     "exception": false,
     "start_time": "2025-07-16T12:30:42.492238",
     "status": "completed"
    },
    "tags": []
   },
   "outputs": [
    {
     "data": {
      "text/html": [
       "<div>\n",
       "<style scoped>\n",
       "    .dataframe tbody tr th:only-of-type {\n",
       "        vertical-align: middle;\n",
       "    }\n",
       "\n",
       "    .dataframe tbody tr th {\n",
       "        vertical-align: top;\n",
       "    }\n",
       "\n",
       "    .dataframe thead th {\n",
       "        text-align: right;\n",
       "    }\n",
       "</style>\n",
       "<table border=\"1\" class=\"dataframe\">\n",
       "  <thead>\n",
       "    <tr style=\"text-align: right;\">\n",
       "      <th></th>\n",
       "      <th>ID</th>\n",
       "      <th>hla_match_c_high</th>\n",
       "      <th>hla_high_res_8</th>\n",
       "      <th>hla_low_res_6</th>\n",
       "      <th>hla_high_res_6</th>\n",
       "      <th>hla_high_res_10</th>\n",
       "      <th>hla_match_dqb1_high</th>\n",
       "      <th>hla_nmdp_6</th>\n",
       "      <th>hla_match_c_low</th>\n",
       "      <th>hla_match_drb1_low</th>\n",
       "      <th>...</th>\n",
       "      <th>age_at_hct</th>\n",
       "      <th>hla_match_a_low</th>\n",
       "      <th>hla_match_b_high</th>\n",
       "      <th>comorbidity_score</th>\n",
       "      <th>karnofsky_score</th>\n",
       "      <th>hla_low_res_8</th>\n",
       "      <th>hla_match_drb1_high</th>\n",
       "      <th>hla_low_res_10</th>\n",
       "      <th>efs</th>\n",
       "      <th>efs_time</th>\n",
       "    </tr>\n",
       "  </thead>\n",
       "  <tbody>\n",
       "    <tr>\n",
       "      <th>count</th>\n",
       "      <td>28800.000000</td>\n",
       "      <td>24180.000000</td>\n",
       "      <td>22971.000000</td>\n",
       "      <td>25530.000000</td>\n",
       "      <td>23516.000000</td>\n",
       "      <td>21637.000000</td>\n",
       "      <td>23601.000000</td>\n",
       "      <td>24603.000000</td>\n",
       "      <td>26000.000000</td>\n",
       "      <td>26157.000000</td>\n",
       "      <td>...</td>\n",
       "      <td>28800.000000</td>\n",
       "      <td>26410.000000</td>\n",
       "      <td>24712.00000</td>\n",
       "      <td>28323.000000</td>\n",
       "      <td>27930.00000</td>\n",
       "      <td>25147.000000</td>\n",
       "      <td>25448.000000</td>\n",
       "      <td>23736.000000</td>\n",
       "      <td>28800.000000</td>\n",
       "      <td>28800.000000</td>\n",
       "    </tr>\n",
       "    <tr>\n",
       "      <th>mean</th>\n",
       "      <td>14399.500000</td>\n",
       "      <td>1.764516</td>\n",
       "      <td>6.876801</td>\n",
       "      <td>5.143322</td>\n",
       "      <td>5.109202</td>\n",
       "      <td>8.617230</td>\n",
       "      <td>1.736876</td>\n",
       "      <td>5.160346</td>\n",
       "      <td>1.757808</td>\n",
       "      <td>1.715296</td>\n",
       "      <td>...</td>\n",
       "      <td>38.663162</td>\n",
       "      <td>1.709087</td>\n",
       "      <td>1.69962</td>\n",
       "      <td>1.702327</td>\n",
       "      <td>83.83208</td>\n",
       "      <td>6.903448</td>\n",
       "      <td>1.707128</td>\n",
       "      <td>8.664687</td>\n",
       "      <td>0.539306</td>\n",
       "      <td>23.237678</td>\n",
       "    </tr>\n",
       "    <tr>\n",
       "      <th>std</th>\n",
       "      <td>8313.988213</td>\n",
       "      <td>0.431941</td>\n",
       "      <td>1.564313</td>\n",
       "      <td>1.207757</td>\n",
       "      <td>1.214162</td>\n",
       "      <td>1.905125</td>\n",
       "      <td>0.447687</td>\n",
       "      <td>1.203240</td>\n",
       "      <td>0.435453</td>\n",
       "      <td>0.451282</td>\n",
       "      <td>...</td>\n",
       "      <td>21.147581</td>\n",
       "      <td>0.458259</td>\n",
       "      <td>0.46518</td>\n",
       "      <td>1.994443</td>\n",
       "      <td>11.02884</td>\n",
       "      <td>1.565017</td>\n",
       "      <td>0.461179</td>\n",
       "      <td>1.882746</td>\n",
       "      <td>0.498461</td>\n",
       "      <td>24.799748</td>\n",
       "    </tr>\n",
       "    <tr>\n",
       "      <th>min</th>\n",
       "      <td>0.000000</td>\n",
       "      <td>0.000000</td>\n",
       "      <td>2.000000</td>\n",
       "      <td>2.000000</td>\n",
       "      <td>0.000000</td>\n",
       "      <td>3.000000</td>\n",
       "      <td>0.000000</td>\n",
       "      <td>2.000000</td>\n",
       "      <td>0.000000</td>\n",
       "      <td>1.000000</td>\n",
       "      <td>...</td>\n",
       "      <td>0.044000</td>\n",
       "      <td>0.000000</td>\n",
       "      <td>0.00000</td>\n",
       "      <td>0.000000</td>\n",
       "      <td>40.00000</td>\n",
       "      <td>2.000000</td>\n",
       "      <td>0.000000</td>\n",
       "      <td>4.000000</td>\n",
       "      <td>0.000000</td>\n",
       "      <td>0.333000</td>\n",
       "    </tr>\n",
       "    <tr>\n",
       "      <th>25%</th>\n",
       "      <td>7199.750000</td>\n",
       "      <td>2.000000</td>\n",
       "      <td>6.000000</td>\n",
       "      <td>4.000000</td>\n",
       "      <td>4.000000</td>\n",
       "      <td>7.000000</td>\n",
       "      <td>1.000000</td>\n",
       "      <td>4.000000</td>\n",
       "      <td>2.000000</td>\n",
       "      <td>1.000000</td>\n",
       "      <td>...</td>\n",
       "      <td>19.539000</td>\n",
       "      <td>1.000000</td>\n",
       "      <td>1.00000</td>\n",
       "      <td>0.000000</td>\n",
       "      <td>70.00000</td>\n",
       "      <td>6.000000</td>\n",
       "      <td>1.000000</td>\n",
       "      <td>7.000000</td>\n",
       "      <td>0.000000</td>\n",
       "      <td>5.619750</td>\n",
       "    </tr>\n",
       "    <tr>\n",
       "      <th>50%</th>\n",
       "      <td>14399.500000</td>\n",
       "      <td>2.000000</td>\n",
       "      <td>8.000000</td>\n",
       "      <td>6.000000</td>\n",
       "      <td>6.000000</td>\n",
       "      <td>10.000000</td>\n",
       "      <td>2.000000</td>\n",
       "      <td>6.000000</td>\n",
       "      <td>2.000000</td>\n",
       "      <td>2.000000</td>\n",
       "      <td>...</td>\n",
       "      <td>41.006000</td>\n",
       "      <td>2.000000</td>\n",
       "      <td>2.00000</td>\n",
       "      <td>1.000000</td>\n",
       "      <td>90.00000</td>\n",
       "      <td>8.000000</td>\n",
       "      <td>2.000000</td>\n",
       "      <td>10.000000</td>\n",
       "      <td>1.000000</td>\n",
       "      <td>9.796500</td>\n",
       "    </tr>\n",
       "    <tr>\n",
       "      <th>75%</th>\n",
       "      <td>21599.250000</td>\n",
       "      <td>2.000000</td>\n",
       "      <td>8.000000</td>\n",
       "      <td>6.000000</td>\n",
       "      <td>6.000000</td>\n",
       "      <td>10.000000</td>\n",
       "      <td>2.000000</td>\n",
       "      <td>6.000000</td>\n",
       "      <td>2.000000</td>\n",
       "      <td>2.000000</td>\n",
       "      <td>...</td>\n",
       "      <td>55.965250</td>\n",
       "      <td>2.000000</td>\n",
       "      <td>2.00000</td>\n",
       "      <td>2.000000</td>\n",
       "      <td>90.00000</td>\n",
       "      <td>8.000000</td>\n",
       "      <td>2.000000</td>\n",
       "      <td>10.000000</td>\n",
       "      <td>1.000000</td>\n",
       "      <td>35.100000</td>\n",
       "    </tr>\n",
       "    <tr>\n",
       "      <th>max</th>\n",
       "      <td>28799.000000</td>\n",
       "      <td>2.000000</td>\n",
       "      <td>8.000000</td>\n",
       "      <td>6.000000</td>\n",
       "      <td>6.000000</td>\n",
       "      <td>10.000000</td>\n",
       "      <td>2.000000</td>\n",
       "      <td>6.000000</td>\n",
       "      <td>2.000000</td>\n",
       "      <td>2.000000</td>\n",
       "      <td>...</td>\n",
       "      <td>73.726000</td>\n",
       "      <td>2.000000</td>\n",
       "      <td>2.00000</td>\n",
       "      <td>10.000000</td>\n",
       "      <td>100.00000</td>\n",
       "      <td>8.000000</td>\n",
       "      <td>2.000000</td>\n",
       "      <td>10.000000</td>\n",
       "      <td>1.000000</td>\n",
       "      <td>156.819000</td>\n",
       "    </tr>\n",
       "  </tbody>\n",
       "</table>\n",
       "<p>8 rows × 25 columns</p>\n",
       "</div>"
      ],
      "text/plain": [
       "                 ID  hla_match_c_high  hla_high_res_8  hla_low_res_6  \\\n",
       "count  28800.000000      24180.000000    22971.000000   25530.000000   \n",
       "mean   14399.500000          1.764516        6.876801       5.143322   \n",
       "std     8313.988213          0.431941        1.564313       1.207757   \n",
       "min        0.000000          0.000000        2.000000       2.000000   \n",
       "25%     7199.750000          2.000000        6.000000       4.000000   \n",
       "50%    14399.500000          2.000000        8.000000       6.000000   \n",
       "75%    21599.250000          2.000000        8.000000       6.000000   \n",
       "max    28799.000000          2.000000        8.000000       6.000000   \n",
       "\n",
       "       hla_high_res_6  hla_high_res_10  hla_match_dqb1_high    hla_nmdp_6  \\\n",
       "count    23516.000000     21637.000000         23601.000000  24603.000000   \n",
       "mean         5.109202         8.617230             1.736876      5.160346   \n",
       "std          1.214162         1.905125             0.447687      1.203240   \n",
       "min          0.000000         3.000000             0.000000      2.000000   \n",
       "25%          4.000000         7.000000             1.000000      4.000000   \n",
       "50%          6.000000        10.000000             2.000000      6.000000   \n",
       "75%          6.000000        10.000000             2.000000      6.000000   \n",
       "max          6.000000        10.000000             2.000000      6.000000   \n",
       "\n",
       "       hla_match_c_low  hla_match_drb1_low  ...    age_at_hct  \\\n",
       "count     26000.000000        26157.000000  ...  28800.000000   \n",
       "mean          1.757808            1.715296  ...     38.663162   \n",
       "std           0.435453            0.451282  ...     21.147581   \n",
       "min           0.000000            1.000000  ...      0.044000   \n",
       "25%           2.000000            1.000000  ...     19.539000   \n",
       "50%           2.000000            2.000000  ...     41.006000   \n",
       "75%           2.000000            2.000000  ...     55.965250   \n",
       "max           2.000000            2.000000  ...     73.726000   \n",
       "\n",
       "       hla_match_a_low  hla_match_b_high  comorbidity_score  karnofsky_score  \\\n",
       "count     26410.000000       24712.00000       28323.000000      27930.00000   \n",
       "mean          1.709087           1.69962           1.702327         83.83208   \n",
       "std           0.458259           0.46518           1.994443         11.02884   \n",
       "min           0.000000           0.00000           0.000000         40.00000   \n",
       "25%           1.000000           1.00000           0.000000         70.00000   \n",
       "50%           2.000000           2.00000           1.000000         90.00000   \n",
       "75%           2.000000           2.00000           2.000000         90.00000   \n",
       "max           2.000000           2.00000          10.000000        100.00000   \n",
       "\n",
       "       hla_low_res_8  hla_match_drb1_high  hla_low_res_10           efs  \\\n",
       "count   25147.000000         25448.000000    23736.000000  28800.000000   \n",
       "mean        6.903448             1.707128        8.664687      0.539306   \n",
       "std         1.565017             0.461179        1.882746      0.498461   \n",
       "min         2.000000             0.000000        4.000000      0.000000   \n",
       "25%         6.000000             1.000000        7.000000      0.000000   \n",
       "50%         8.000000             2.000000       10.000000      1.000000   \n",
       "75%         8.000000             2.000000       10.000000      1.000000   \n",
       "max         8.000000             2.000000       10.000000      1.000000   \n",
       "\n",
       "           efs_time  \n",
       "count  28800.000000  \n",
       "mean      23.237678  \n",
       "std       24.799748  \n",
       "min        0.333000  \n",
       "25%        5.619750  \n",
       "50%        9.796500  \n",
       "75%       35.100000  \n",
       "max      156.819000  \n",
       "\n",
       "[8 rows x 25 columns]"
      ]
     },
     "execution_count": 3,
     "metadata": {},
     "output_type": "execute_result"
    }
   ],
   "source": [
    "train_df.head()\n",
    "train_df.describe()\n"
   ]
  },
  {
   "cell_type": "code",
   "execution_count": 4,
   "id": "73c1effc",
   "metadata": {
    "execution": {
     "iopub.execute_input": "2025-07-16T12:30:42.641821Z",
     "iopub.status.busy": "2025-07-16T12:30:42.641448Z",
     "iopub.status.idle": "2025-07-16T12:30:43.216435Z",
     "shell.execute_reply": "2025-07-16T12:30:43.215162Z"
    },
    "papermill": {
     "duration": 0.584103,
     "end_time": "2025-07-16T12:30:43.218267",
     "exception": false,
     "start_time": "2025-07-16T12:30:42.634164",
     "status": "completed"
    },
    "tags": []
   },
   "outputs": [
    {
     "name": "stderr",
     "output_type": "stream",
     "text": [
      "/usr/local/lib/python3.10/dist-packages/seaborn/_oldcore.py:1119: FutureWarning: use_inf_as_na option is deprecated and will be removed in a future version. Convert inf values to NaN before operating instead.\n",
      "  with pd.option_context('mode.use_inf_as_na', True):\n"
     ]
    },
    {
     "data": {
      "image/png": "[encoded data removed]",
      "text/plain": [
       "<Figure size 800x600 with 1 Axes>"
      ]
     },
     "metadata": {},
     "output_type": "display_data"
    }
   ],
   "source": [
    "plt.figure(figsize=(8, 6))\n",
    "sns.histplot(train_df['efs'], kde=True)\n",
    "plt.title(\"Distribution of Target Variable (efs)\")\n",
    "plt.xlabel(\"efs\")\n",
    "plt.ylabel(\"Frequency\")\n",
    "plt.show()\n"
   ]
  },
  {
   "cell_type": "code",
   "execution_count": 5,
   "id": "6c25572d",
   "metadata": {
    "execution": {
     "iopub.execute_input": "2025-07-16T12:30:43.233876Z",
     "iopub.status.busy": "2025-07-16T12:30:43.233496Z",
     "iopub.status.idle": "2025-07-16T12:30:43.367689Z",
     "shell.execute_reply": "2025-07-16T12:30:43.366544Z"
    },
    "papermill": {
     "duration": 0.144272,
     "end_time": "2025-07-16T12:30:43.369779",
     "exception": false,
     "start_time": "2025-07-16T12:30:43.225507",
     "status": "completed"
    },
    "tags": []
   },
   "outputs": [
    {
     "name": "stderr",
     "output_type": "stream",
     "text": [
      "<ipython-input-5-500defe37d78>:3: FutureWarning: A value is trying to be set on a copy of a DataFrame or Series through chained assignment using an inplace method.\n",
      "The behavior will change in pandas 3.0. This inplace method will never work because the intermediate object on which we are setting values always behaves as a copy.\n",
      "\n",
      "For example, when doing 'df[col].method(value, inplace=True)', try using 'df.method({col: value}, inplace=True)' or df[col] = df[col].method(value) instead, to perform the operation inplace on the original object.\n",
      "\n",
      "\n",
      "  train_df[col].fillna(train_df[col].median(), inplace=True)\n",
      "<ipython-input-5-500defe37d78>:8: FutureWarning: A value is trying to be set on a copy of a DataFrame or Series through chained assignment using an inplace method.\n",
      "The behavior will change in pandas 3.0. This inplace method will never work because the intermediate object on which we are setting values always behaves as a copy.\n",
      "\n",
      "For example, when doing 'df[col].method(value, inplace=True)', try using 'df.method({col: value}, inplace=True)' or df[col] = df[col].method(value) instead, to perform the operation inplace on the original object.\n",
      "\n",
      "\n",
      "  train_df[col].fillna(\"NaN\", inplace=True)\n",
      "<ipython-input-5-500defe37d78>:13: FutureWarning: A value is trying to be set on a copy of a DataFrame or Series through chained assignment using an inplace method.\n",
      "The behavior will change in pandas 3.0. This inplace method will never work because the intermediate object on which we are setting values always behaves as a copy.\n",
      "\n",
      "For example, when doing 'df[col].method(value, inplace=True)', try using 'df.method({col: value}, inplace=True)' or df[col] = df[col].method(value) instead, to perform the operation inplace on the original object.\n",
      "\n",
      "\n",
      "  test_df[col].fillna(train_df[col].median(), inplace=True)\n",
      "<ipython-input-5-500defe37d78>:17: FutureWarning: A value is trying to be set on a copy of a DataFrame or Series through chained assignment using an inplace method.\n",
      "The behavior will change in pandas 3.0. This inplace method will never work because the intermediate object on which we are setting values always behaves as a copy.\n",
      "\n",
      "For example, when doing 'df[col].method(value, inplace=True)', try using 'df.method({col: value}, inplace=True)' or df[col] = df[col].method(value) instead, to perform the operation inplace on the original object.\n",
      "\n",
      "\n",
      "  test_df[col].fillna(\"NaN\", inplace=True)\n"
     ]
    }
   ],
   "source": [
    "num_cols = train_df.select_dtypes(include=['float64', 'int64']).columns\n",
    "for col in num_cols:\n",
    "    train_df[col].fillna(train_df[col].median(), inplace=True)\n",
    "\n",
    "\n",
    "cat_cols = train_df.select_dtypes(include=['object']).columns\n",
    "for col in cat_cols:\n",
    "    train_df[col].fillna(\"NaN\", inplace=True)\n",
    "\n",
    "\n",
    "for col in train_df.select_dtypes(include=['float64', 'int64']).columns:\n",
    "    if col in test_df.columns:\n",
    "        test_df[col].fillna(train_df[col].median(), inplace=True)\n",
    "        \n",
    "for col in train_df.select_dtypes(include=['object']).columns:\n",
    "    if col in test_df.columns:\n",
    "        test_df[col].fillna(\"NaN\", inplace=True)"
   ]
  },
  {
   "cell_type": "code",
   "execution_count": 6,
   "id": "c08a8d92",
   "metadata": {
    "execution": {
     "iopub.execute_input": "2025-07-16T12:30:43.385447Z",
     "iopub.status.busy": "2025-07-16T12:30:43.385046Z",
     "iopub.status.idle": "2025-07-16T12:30:43.393120Z",
     "shell.execute_reply": "2025-07-16T12:30:43.392014Z"
    },
    "papermill": {
     "duration": 0.017893,
     "end_time": "2025-07-16T12:30:43.394941",
     "exception": false,
     "start_time": "2025-07-16T12:30:43.377048",
     "status": "completed"
    },
    "tags": []
   },
   "outputs": [],
   "source": [
    "train_df.columns = train_df.columns.str.replace(r\"[^a-zA-Z0-9_]\", \"_\", regex=True)\n",
    "test_df.columns = test_df.columns.str.replace(r\"[^a-zA-Z0-9_]\", \"_\", regex=True)\n"
   ]
  },
  {
   "cell_type": "code",
   "execution_count": 7,
   "id": "3e38df37",
   "metadata": {
    "execution": {
     "iopub.execute_input": "2025-07-16T12:30:43.410977Z",
     "iopub.status.busy": "2025-07-16T12:30:43.410633Z",
     "iopub.status.idle": "2025-07-16T12:30:43.426277Z",
     "shell.execute_reply": "2025-07-16T12:30:43.424970Z"
    },
    "papermill": {
     "duration": 0.025942,
     "end_time": "2025-07-16T12:30:43.428204",
     "exception": false,
     "start_time": "2025-07-16T12:30:43.402262",
     "status": "completed"
    },
    "tags": []
   },
   "outputs": [],
   "source": [
    "X_train = train_df.drop(columns=['ID', 'efs'], errors='ignore')\n",
    "y_train = train_df['efs']\n"
   ]
  },
  {
   "cell_type": "code",
   "execution_count": 8,
   "id": "59fd29de",
   "metadata": {
    "execution": {
     "iopub.execute_input": "2025-07-16T12:30:43.443833Z",
     "iopub.status.busy": "2025-07-16T12:30:43.443493Z",
     "iopub.status.idle": "2025-07-16T12:30:43.448915Z",
     "shell.execute_reply": "2025-07-16T12:30:43.447777Z"
    },
    "papermill": {
     "duration": 0.015315,
     "end_time": "2025-07-16T12:30:43.450723",
     "exception": false,
     "start_time": "2025-07-16T12:30:43.435408",
     "status": "completed"
    },
    "tags": []
   },
   "outputs": [],
   "source": [
    "X_test = test_df.drop(columns=['ID'], errors='ignore')"
   ]
  },
  {
   "cell_type": "code",
   "execution_count": 9,
   "id": "95cc9112",
   "metadata": {
    "execution": {
     "iopub.execute_input": "2025-07-16T12:30:43.466735Z",
     "iopub.status.busy": "2025-07-16T12:30:43.466383Z",
     "iopub.status.idle": "2025-07-16T12:30:43.543838Z",
     "shell.execute_reply": "2025-07-16T12:30:43.542599Z"
    },
    "papermill": {
     "duration": 0.0875,
     "end_time": "2025-07-16T12:30:43.545694",
     "exception": false,
     "start_time": "2025-07-16T12:30:43.458194",
     "status": "completed"
    },
    "tags": []
   },
   "outputs": [
    {
     "name": "stdout",
     "output_type": "stream",
     "text": [
      "Low cardinality columns for one-hot encoding: ['psych_disturb', 'cyto_score', 'diabetes', 'tbi_status', 'arrhythmia', 'graft_type', 'vent_hist', 'renal_issue', 'pulm_severe', 'cmv_status', 'tce_imm_match', 'rituximab', 'prod_type', 'cyto_score_detail', 'conditioning_intensity', 'ethnicity', 'obesity', 'mrd_hct', 'in_vivo_tcd', 'tce_match', 'hepatic_severe', 'prior_tumor', 'peptic_ulcer', 'rheum_issue', 'sex_match', 'race_group', 'hepatic_mild', 'tce_div_match', 'donor_related', 'melphalan_dose', 'cardiac', 'pulm_moderate']\n"
     ]
    }
   ],
   "source": [
    "low_card_cols = [col for col in X_train.select_dtypes(include=['object']).columns if X_train[col].nunique() <= 10]\n",
    "print(\"Low cardinality columns for one-hot encoding:\", low_card_cols)\n"
   ]
  },
  {
   "cell_type": "code",
   "execution_count": 10,
   "id": "6c176265",
   "metadata": {
    "execution": {
     "iopub.execute_input": "2025-07-16T12:30:43.561853Z",
     "iopub.status.busy": "2025-07-16T12:30:43.561495Z",
     "iopub.status.idle": "2025-07-16T12:30:43.788430Z",
     "shell.execute_reply": "2025-07-16T12:30:43.787285Z"
    },
    "papermill": {
     "duration": 0.237095,
     "end_time": "2025-07-16T12:30:43.790382",
     "exception": false,
     "start_time": "2025-07-16T12:30:43.553287",
     "status": "completed"
    },
    "tags": []
   },
   "outputs": [],
   "source": [
    "X_train = pd.get_dummies(X_train, columns=low_card_cols, drop_first=True)\n",
    "X_test = pd.get_dummies(X_test, columns=low_card_cols, drop_first=True)"
   ]
  },
  {
   "cell_type": "code",
   "execution_count": 11,
   "id": "cbd3eb5d",
   "metadata": {
    "execution": {
     "iopub.execute_input": "2025-07-16T12:30:43.806212Z",
     "iopub.status.busy": "2025-07-16T12:30:43.805799Z",
     "iopub.status.idle": "2025-07-16T12:30:43.812298Z",
     "shell.execute_reply": "2025-07-16T12:30:43.811052Z"
    },
    "papermill": {
     "duration": 0.016542,
     "end_time": "2025-07-16T12:30:43.814174",
     "exception": false,
     "start_time": "2025-07-16T12:30:43.797632",
     "status": "completed"
    },
    "tags": []
   },
   "outputs": [],
   "source": [
    "X_test = X_test.reindex(columns=X_train.columns, fill_value=0)"
   ]
  },
  {
   "cell_type": "code",
   "execution_count": 12,
   "id": "cdf68d78",
   "metadata": {
    "execution": {
     "iopub.execute_input": "2025-07-16T12:30:43.830691Z",
     "iopub.status.busy": "2025-07-16T12:30:43.830323Z",
     "iopub.status.idle": "2025-07-16T12:30:43.896218Z",
     "shell.execute_reply": "2025-07-16T12:30:43.895157Z"
    },
    "papermill": {
     "duration": 0.076567,
     "end_time": "2025-07-16T12:30:43.898218",
     "exception": false,
     "start_time": "2025-07-16T12:30:43.821651",
     "status": "completed"
    },
    "tags": []
   },
   "outputs": [],
   "source": [
    "for col in X_train.select_dtypes(include='object').columns:\n",
    "    X_train[col] = pd.to_numeric(X_train[col], errors='coerce')\n"
   ]
  },
  {
   "cell_type": "code",
   "execution_count": 13,
   "id": "8828c21e",
   "metadata": {
    "execution": {
     "iopub.execute_input": "2025-07-16T12:30:43.914204Z",
     "iopub.status.busy": "2025-07-16T12:30:43.913767Z",
     "iopub.status.idle": "2025-07-16T12:30:43.920572Z",
     "shell.execute_reply": "2025-07-16T12:30:43.919223Z"
    },
    "papermill": {
     "duration": 0.017003,
     "end_time": "2025-07-16T12:30:43.922546",
     "exception": false,
     "start_time": "2025-07-16T12:30:43.905543",
     "status": "completed"
    },
    "tags": []
   },
   "outputs": [],
   "source": [
    "for col in X_test.select_dtypes(include='object').columns:\n",
    "    X_test[col] = pd.to_numeric(X_test[col], errors='coerce')\n"
   ]
  },
  {
   "cell_type": "code",
   "execution_count": 14,
   "id": "11ec9170",
   "metadata": {
    "execution": {
     "iopub.execute_input": "2025-07-16T12:30:43.938303Z",
     "iopub.status.busy": "2025-07-16T12:30:43.937797Z",
     "iopub.status.idle": "2025-07-16T12:30:43.947483Z",
     "shell.execute_reply": "2025-07-16T12:30:43.946150Z"
    },
    "papermill": {
     "duration": 0.019666,
     "end_time": "2025-07-16T12:30:43.949392",
     "exception": false,
     "start_time": "2025-07-16T12:30:43.929726",
     "status": "completed"
    },
    "tags": []
   },
   "outputs": [],
   "source": [
    "X_train = X_train.astype(np.float32)\n",
    "X_test = X_test.astype(np.float32)\n"
   ]
  },
  {
   "cell_type": "code",
   "execution_count": 15,
   "id": "391e5a2b",
   "metadata": {
    "execution": {
     "iopub.execute_input": "2025-07-16T12:30:43.965598Z",
     "iopub.status.busy": "2025-07-16T12:30:43.965088Z",
     "iopub.status.idle": "2025-07-16T12:30:44.007567Z",
     "shell.execute_reply": "2025-07-16T12:30:44.006374Z"
    },
    "papermill": {
     "duration": 0.052621,
     "end_time": "2025-07-16T12:30:44.009700",
     "exception": false,
     "start_time": "2025-07-16T12:30:43.957079",
     "status": "completed"
    },
    "tags": []
   },
   "outputs": [
    {
     "name": "stderr",
     "output_type": "stream",
     "text": [
      "<ipython-input-15-4c9b0d9a2d67>:3: FutureWarning: A value is trying to be set on a copy of a DataFrame or Series through chained assignment using an inplace method.\n",
      "The behavior will change in pandas 3.0. This inplace method will never work because the intermediate object on which we are setting values always behaves as a copy.\n",
      "\n",
      "For example, when doing 'df[col].method(value, inplace=True)', try using 'df.method({col: value}, inplace=True)' or df[col] = df[col].method(value) instead, to perform the operation inplace on the original object.\n",
      "\n",
      "\n",
      "  X_train[col].fillna(X_train[col].median(), inplace=True)\n",
      "<ipython-input-15-4c9b0d9a2d67>:7: FutureWarning: A value is trying to be set on a copy of a DataFrame or Series through chained assignment using an inplace method.\n",
      "The behavior will change in pandas 3.0. This inplace method will never work because the intermediate object on which we are setting values always behaves as a copy.\n",
      "\n",
      "For example, when doing 'df[col].method(value, inplace=True)', try using 'df.method({col: value}, inplace=True)' or df[col] = df[col].method(value) instead, to perform the operation inplace on the original object.\n",
      "\n",
      "\n",
      "  X_test[col].fillna(X_test[col].median(), inplace=True)\n"
     ]
    }
   ],
   "source": [
    "for col in X_train.columns:\n",
    "    if X_train[col].isnull().any():\n",
    "        X_train[col].fillna(X_train[col].median(), inplace=True)\n",
    "        \n",
    "for col in X_test.columns:\n",
    "    if X_test[col].isnull().any():\n",
    "        X_test[col].fillna(X_test[col].median(), inplace=True)\n"
   ]
  },
  {
   "cell_type": "code",
   "execution_count": 16,
   "id": "72b268a0",
   "metadata": {
    "execution": {
     "iopub.execute_input": "2025-07-16T12:30:44.025679Z",
     "iopub.status.busy": "2025-07-16T12:30:44.025291Z",
     "iopub.status.idle": "2025-07-16T12:30:44.047056Z",
     "shell.execute_reply": "2025-07-16T12:30:44.045738Z"
    },
    "papermill": {
     "duration": 0.032033,
     "end_time": "2025-07-16T12:30:44.049067",
     "exception": false,
     "start_time": "2025-07-16T12:30:44.017034",
     "status": "completed"
    },
    "tags": []
   },
   "outputs": [
    {
     "name": "stdout",
     "output_type": "stream",
     "text": [
      "Training set shape: (23040, 137)\n",
      "Validation set shape: (5760, 137)\n"
     ]
    }
   ],
   "source": [
    "X_tr, X_val, y_tr, y_val = train_test_split(X_train, y_train, test_size=0.2, random_state=42)\n",
    "print(\"Training set shape:\", X_tr.shape)\n",
    "print(\"Validation set shape:\", X_val.shape)"
   ]
  },
  {
   "cell_type": "code",
   "execution_count": 17,
   "id": "169b837d",
   "metadata": {
    "execution": {
     "iopub.execute_input": "2025-07-16T12:30:44.065771Z",
     "iopub.status.busy": "2025-07-16T12:30:44.065255Z",
     "iopub.status.idle": "2025-07-16T12:30:44.073769Z",
     "shell.execute_reply": "2025-07-16T12:30:44.072693Z"
    },
    "papermill": {
     "duration": 0.019241,
     "end_time": "2025-07-16T12:30:44.075852",
     "exception": false,
     "start_time": "2025-07-16T12:30:44.056611",
     "status": "completed"
    },
    "tags": []
   },
   "outputs": [
    {
     "name": "stdout",
     "output_type": "stream",
     "text": [
      "Cleaned feature names:\n",
      "['dri_score', 'hla_match_c_high', 'hla_high_res_8', 'hla_low_res_6', 'prim_disease_hct', 'hla_high_res_6', 'hla_high_res_10', 'hla_match_dqb1_high', 'hla_nmdp_6', 'hla_match_c_low', 'hla_match_drb1_low', 'hla_match_dqb1_low', 'year_hct', 'hla_match_a_high', 'donor_age', 'hla_match_b_low', 'age_at_hct', 'hla_match_a_low', 'gvhd_proph', 'hla_match_b_high', 'comorbidity_score', 'karnofsky_score', 'hla_low_res_8', 'hla_match_drb1_high', 'hla_low_res_10', 'efs_time', 'psych_disturb_No', 'psych_disturb_Not done', 'psych_disturb_Yes', 'cyto_score_Intermediate', 'cyto_score_NaN', 'cyto_score_Normal', 'cyto_score_Not tested', 'cyto_score_Other', 'cyto_score_Poor', 'cyto_score_TBD', 'diabetes_No', 'diabetes_Not done', 'diabetes_Yes', 'tbi_status_TBI + Cy +- Other', 'tbi_status_TBI +- Other_ -cGy_ fractionated', 'tbi_status_TBI +- Other_ -cGy_ single', 'tbi_status_TBI +- Other_ -cGy_ unknown dose', 'tbi_status_TBI +- Other_ _=cGy', 'tbi_status_TBI +- Other_ >cGy', 'tbi_status_TBI +- Other_ unknown dose', 'arrhythmia_No', 'arrhythmia_Not done', 'arrhythmia_Yes', 'graft_type_Peripheral blood', 'vent_hist_No', 'vent_hist_Yes', 'renal_issue_No', 'renal_issue_Not done', 'renal_issue_Yes', 'pulm_severe_No', 'pulm_severe_Not done', 'pulm_severe_Yes', 'cmv_status_+/-', 'cmv_status_-/+', 'cmv_status_-/-', 'cmv_status_NaN', 'tce_imm_match_G/G', 'tce_imm_match_H/B', 'tce_imm_match_H/H', 'tce_imm_match_NaN', 'tce_imm_match_P/B', 'tce_imm_match_P/G', 'tce_imm_match_P/H', 'tce_imm_match_P/P', 'rituximab_No', 'rituximab_Yes', 'prod_type_PB', 'cyto_score_detail_Intermediate', 'cyto_score_detail_NaN', 'cyto_score_detail_Not tested', 'cyto_score_detail_Poor', 'cyto_score_detail_TBD', 'conditioning_intensity_N/A_ F(pre-TED) not submitted', 'conditioning_intensity_NMA', 'conditioning_intensity_NaN', 'conditioning_intensity_No drugs reported', 'conditioning_intensity_RIC', 'conditioning_intensity_TBD', 'ethnicity_NaN', 'ethnicity_Non-resident of the U.S.', 'ethnicity_Not Hispanic or Latino', 'obesity_No', 'obesity_Not done', 'obesity_Yes', 'mrd_hct_Negative', 'mrd_hct_Positive', 'in_vivo_tcd_No', 'in_vivo_tcd_Yes', 'tce_match_GvH non-permissive', 'tce_match_HvG non-permissive', 'tce_match_NaN', 'tce_match_Permissive', 'hepatic_severe_No', 'hepatic_severe_Not done', 'hepatic_severe_Yes', 'prior_tumor_No', 'prior_tumor_Not done', 'prior_tumor_Yes', 'peptic_ulcer_No', 'peptic_ulcer_Not done', 'peptic_ulcer_Yes', 'rheum_issue_No', 'rheum_issue_Not done', 'rheum_issue_Yes', 'sex_match_F-M', 'sex_match_M-F', 'sex_match_M-M', 'sex_match_NaN', 'race_group_Asian', 'race_group_Black or African-American', 'race_group_More than one race', 'race_group_Native Hawaiian or other Pacific Islander', 'race_group_White', 'hepatic_mild_No', 'hepatic_mild_Not done', 'hepatic_mild_Yes', 'tce_div_match_GvH non-permissive', 'tce_div_match_HvG non-permissive', 'tce_div_match_NaN', 'tce_div_match_Permissive mismatched', 'donor_related_NaN', 'donor_related_Related', 'donor_related_Unrelated', 'melphalan_dose_N/A_ Mel not given', 'melphalan_dose_NaN', 'cardiac_No', 'cardiac_Not done', 'cardiac_Yes', 'pulm_moderate_No', 'pulm_moderate_Not done', 'pulm_moderate_Yes']\n"
     ]
    }
   ],
   "source": [
    "\n",
    "illegal_chars = r\"[,\\[\\]<]\"\n",
    "\n",
    "\n",
    "X_train.columns = X_train.columns.str.replace(illegal_chars, \"_\", regex=True)\n",
    "X_val.columns = X_val.columns.str.replace(illegal_chars, \"_\", regex=True)\n",
    "X_tr.columns = X_tr.columns.str.replace(illegal_chars, \"_\", regex=True)  \n",
    "\n",
    "X_test.columns = X_test.columns.str.replace(illegal_chars, \"_\", regex=True)\n",
    "\n",
    "\n",
    "print(\"Cleaned feature names:\")\n",
    "print(X_train.columns.tolist())\n"
   ]
  },
  {
   "cell_type": "code",
   "execution_count": 18,
   "id": "cdc88d9c",
   "metadata": {
    "execution": {
     "iopub.execute_input": "2025-07-16T12:30:44.092455Z",
     "iopub.status.busy": "2025-07-16T12:30:44.092058Z",
     "iopub.status.idle": "2025-07-16T12:30:44.097327Z",
     "shell.execute_reply": "2025-07-16T12:30:44.096100Z"
    },
    "papermill": {
     "duration": 0.015871,
     "end_time": "2025-07-16T12:30:44.099174",
     "exception": false,
     "start_time": "2025-07-16T12:30:44.083303",
     "status": "completed"
    },
    "tags": []
   },
   "outputs": [],
   "source": [
    "X_test = X_test.astype(np.float32)\n",
    "\n"
   ]
  },
  {
   "cell_type": "code",
   "execution_count": 19,
   "id": "c6129ad0",
   "metadata": {
    "execution": {
     "iopub.execute_input": "2025-07-16T12:30:44.115366Z",
     "iopub.status.busy": "2025-07-16T12:30:44.114938Z",
     "iopub.status.idle": "2025-07-16T12:30:45.986372Z",
     "shell.execute_reply": "2025-07-16T12:30:45.985090Z"
    },
    "papermill": {
     "duration": 1.881648,
     "end_time": "2025-07-16T12:30:45.988387",
     "exception": false,
     "start_time": "2025-07-16T12:30:44.106739",
     "status": "completed"
    },
    "tags": []
   },
   "outputs": [
    {
     "name": "stdout",
     "output_type": "stream",
     "text": [
      "Validation ROC AUC: 0.9982172687576215\n"
     ]
    }
   ],
   "source": [
    "import xgboost as xgb\n",
    "from sklearn.metrics import roc_auc_score\n",
    "\n",
    "\n",
    "model = xgb.XGBRegressor(objective='reg:squarederror',\n",
    "                         n_estimators=300,\n",
    "                         max_depth=6,\n",
    "                         learning_rate=0.01)\n",
    "\n",
    "\n",
    "model.fit(X_tr, y_tr)  \n",
    "\n",
    "\n",
    "y_val_pred = model.predict(X_val)\n",
    "val_auc = roc_auc_score(y_val, y_val_pred)\n",
    "print(\"Validation ROC AUC:\", val_auc)\n"
   ]
  },
  {
   "cell_type": "code",
   "execution_count": 20,
   "id": "570d300d",
   "metadata": {
    "execution": {
     "iopub.execute_input": "2025-07-16T12:30:46.006378Z",
     "iopub.status.busy": "2025-07-16T12:30:46.005982Z",
     "iopub.status.idle": "2025-07-16T12:30:46.027540Z",
     "shell.execute_reply": "2025-07-16T12:30:46.025236Z"
    },
    "papermill": {
     "duration": 0.033459,
     "end_time": "2025-07-16T12:30:46.029477",
     "exception": false,
     "start_time": "2025-07-16T12:30:45.996018",
     "status": "completed"
    },
    "tags": []
   },
   "outputs": [
    {
     "name": "stdout",
     "output_type": "stream",
     "text": [
      "Prediction shape: (3,)\n"
     ]
    }
   ],
   "source": [
    "predictions = model.predict(X_test)\n",
    "print(\"Prediction shape:\", predictions.shape)\n"
   ]
  },
  {
   "cell_type": "code",
   "execution_count": 21,
   "id": "8a277e6e",
   "metadata": {
    "execution": {
     "iopub.execute_input": "2025-07-16T12:30:46.046089Z",
     "iopub.status.busy": "2025-07-16T12:30:46.045629Z",
     "iopub.status.idle": "2025-07-16T12:30:46.075399Z",
     "shell.execute_reply": "2025-07-16T12:30:46.074119Z"
    },
    "papermill": {
     "duration": 0.040121,
     "end_time": "2025-07-16T12:30:46.077086",
     "exception": false,
     "start_time": "2025-07-16T12:30:46.036965",
     "status": "completed"
    },
    "tags": []
   },
   "outputs": [
    {
     "name": "stdout",
     "output_type": "stream",
     "text": [
      "Prediction shape: (3,)\n",
      "Submission file saved successfully!\n"
     ]
    }
   ],
   "source": [
    "\n",
    "predictions = model.predict(X_test)\n",
    "print(\"Prediction shape:\", predictions.shape)\n",
    "\n",
    "submission = pd.DataFrame({\n",
    "    'ID': test_df['ID'],  \n",
    "    'prediction': predictions\n",
    "})\n",
    "\n",
    "submission.to_csv('submission.csv', index=False, encoding='utf-8')\n",
    "print(\"Submission file saved successfully!\")\n"
   ]
  },
  {
   "cell_type": "code",
   "execution_count": null,
   "id": "99236f9e",
   "metadata": {
    "papermill": {
     "duration": 0.007172,
     "end_time": "2025-07-16T12:30:46.092059",
     "exception": false,
     "start_time": "2025-07-16T12:30:46.084887",
     "status": "completed"
    },
    "tags": []
   },
   "outputs": [],
   "source": []
  },
  {
   "cell_type": "code",
   "execution_count": null,
   "id": "0f5fe016",
   "metadata": {
    "papermill": {
     "duration": 0.00723,
     "end_time": "2025-07-16T12:30:46.106927",
     "exception": false,
     "start_time": "2025-07-16T12:30:46.099697",
     "status": "completed"
    },
    "tags": []
   },
   "outputs": [],
   "source": []
  },
  {
   "cell_type": "code",
   "execution_count": null,
   "id": "d9ef0860",
   "metadata": {
    "papermill": {
     "duration": 0.007343,
     "end_time": "2025-07-16T12:30:46.122395",
     "exception": false,
     "start_time": "2025-07-16T12:30:46.115052",
     "status": "completed"
    },
    "tags": []
   },
   "outputs": [],
   "source": []
  },
  {
   "cell_type": "code",
   "execution_count": null,
   "id": "599638a3",
   "metadata": {
    "papermill": {
     "duration": 0.007187,
     "end_time": "2025-07-16T12:30:46.137094",
     "exception": false,
     "start_time": "2025-07-16T12:30:46.129907",
     "status": "completed"
    },
    "tags": []
   },
   "outputs": [],
   "source": []
  },
  {
   "cell_type": "code",
   "execution_count": null,
   "id": "5bbdcc60",
   "metadata": {
    "papermill": {
     "duration": 0.007082,
     "end_time": "2025-07-16T12:30:46.151656",
     "exception": false,
     "start_time": "2025-07-16T12:30:46.144574",
     "status": "completed"
    },
    "tags": []
   },
   "outputs": [],
   "source": []
  },
  {
   "cell_type": "code",
   "execution_count": null,
   "id": "608d9f6d",
   "metadata": {
    "papermill": {
     "duration": 0.007306,
     "end_time": "2025-07-16T12:30:46.166605",
     "exception": false,
     "start_time": "2025-07-16T12:30:46.159299",
     "status": "completed"
    },
    "tags": []
   },
   "outputs": [],
   "source": []
  },
  {
   "cell_type": "code",
   "execution_count": null,
   "id": "3d5d369a",
   "metadata": {
    "papermill": {
     "duration": 0.007208,
     "end_time": "2025-07-16T12:30:46.181359",
     "exception": false,
     "start_time": "2025-07-16T12:30:46.174151",
     "status": "completed"
    },
    "tags": []
   },
   "outputs": [],
   "source": []
  }
 ],
 "metadata": {
  "kaggle": {
   "accelerator": "none",
   "dataSources": [
    {
     "databundleVersionId": 10381525,
     "sourceId": 70942,
     "sourceType": "competition"
    }
   ],
   "dockerImageVersionId": 30918,
   "isGpuEnabled": false,
   "isInternetEnabled": false,
   "language": "python",
   "sourceType": "notebook"
  },
  "kernelspec": {
   "display_name": "Python 3",
   "language": "python",
   "name": "python3"
  },
  "language_info": {
   "codemirror_mode": {
    "name": "ipython",
    "version": 3
   },
   "file_extension": ".py",
   "mimetype": "text/x-python",
   "name": "python",
   "nbconvert_exporter": "python",
   "pygments_lexer": "ipython3",
   "version": "3.10.12"
  },
  "papermill": {
   "default_parameters": {},
   "duration": 12.478627,
   "end_time": "2025-07-16T12:30:47.010055",
   "environment_variables": {},
   "exception": null,
   "input_path": "__notebook__.ipynb",
   "output_path": "__notebook__.ipynb",
   "parameters": {},
   "start_time": "2025-07-16T12:30:34.531428",
   "version": "2.6.0"
  }
 },
 "nbformat": 4,
 "nbformat_minor": 5
}
