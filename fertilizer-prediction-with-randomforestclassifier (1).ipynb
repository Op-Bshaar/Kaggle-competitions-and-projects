{
 "cells": [
  {
   "cell_type": "code",
   "execution_count": 1,
   "id": "5e7f8dc4",
   "metadata": {
    "_cell_guid": "b1076dfc-b9ad-4769-8c92-a6c4dae69d19",
    "_uuid": "8f2839f25d086af736a60e9eeb907d3b93b6e0e5",
    "execution": {
     "iopub.execute_input": "2025-06-29T17:22:32.602458Z",
     "iopub.status.busy": "2025-06-29T17:22:32.602038Z",
     "iopub.status.idle": "2025-06-29T17:22:34.665206Z",
     "shell.execute_reply": "2025-06-29T17:22:34.664010Z"
    },
    "papermill": {
     "duration": 2.07096,
     "end_time": "2025-06-29T17:22:34.666858",
     "exception": false,
     "start_time": "2025-06-29T17:22:32.595898",
     "status": "completed"
    },
    "tags": []
   },
   "outputs": [
    {
     "name": "stdout",
     "output_type": "stream",
     "text": [
      "/kaggle/input/playground-series-s5e6/sample_submission.csv\n",
      "/kaggle/input/playground-series-s5e6/train.csv\n",
      "/kaggle/input/playground-series-s5e6/test.csv\n"
     ]
    }
   ],
   "source": [
    "# This Python 3 environment comes with many helpful analytics libraries installed\n",
    "# It is defined by the kaggle/python Docker image: https://github.com/kaggle/docker-python\n",
    "# For example, here's several helpful packages to load\n",
    "\n",
    "import numpy as np # linear algebra\n",
    "import pandas as pd # data processing, CSV file I/O (e.g. pd.read_csv)\n",
    "\n",
    "# Input data files are available in the read-only \"../input/\" directory\n",
    "# For example, running this (by clicking run or pressing Shift+Enter) will list all files under the input directory\n",
    "\n",
    "import os\n",
    "for dirname, _, filenames in os.walk('/kaggle/input'):\n",
    "    for filename in filenames:\n",
    "        print(os.path.join(dirname, filename))\n",
    "\n",
    "# You can write up to 20GB to the current directory (/kaggle/working/) that gets preserved as output when you create a version using \"Save & Run All\" \n",
    "# You can also write temporary files to /kaggle/temp/, but they won't be saved outside of the current session"
   ]
  },
  {
   "cell_type": "code",
   "execution_count": 2,
   "id": "3db57f76",
   "metadata": {
    "execution": {
     "iopub.execute_input": "2025-06-29T17:22:34.676834Z",
     "iopub.status.busy": "2025-06-29T17:22:34.676407Z",
     "iopub.status.idle": "2025-06-29T17:22:34.680811Z",
     "shell.execute_reply": "2025-06-29T17:22:34.679968Z"
    },
    "papermill": {
     "duration": 0.011181,
     "end_time": "2025-06-29T17:22:34.682546",
     "exception": false,
     "start_time": "2025-06-29T17:22:34.671365",
     "status": "completed"
    },
    "tags": []
   },
   "outputs": [],
   "source": [
    "import pandas as pd"
   ]
  },
  {
   "cell_type": "code",
   "execution_count": 3,
   "id": "d8f178a1",
   "metadata": {
    "execution": {
     "iopub.execute_input": "2025-06-29T17:22:34.696447Z",
     "iopub.status.busy": "2025-06-29T17:22:34.695864Z",
     "iopub.status.idle": "2025-06-29T17:22:36.599855Z",
     "shell.execute_reply": "2025-06-29T17:22:36.598603Z"
    },
    "papermill": {
     "duration": 1.913312,
     "end_time": "2025-06-29T17:22:36.601982",
     "exception": false,
     "start_time": "2025-06-29T17:22:34.688670",
     "status": "completed"
    },
    "tags": []
   },
   "outputs": [],
   "source": [
    "import pandas as pd\n",
    "\n",
    "train = pd.read_csv('/kaggle/input/playground-series-s5e6/train.csv')\n",
    "test = pd.read_csv('/kaggle/input/playground-series-s5e6/test.csv')\n"
   ]
  },
  {
   "cell_type": "code",
   "execution_count": 4,
   "id": "a9907f0d",
   "metadata": {
    "execution": {
     "iopub.execute_input": "2025-06-29T17:22:36.612058Z",
     "iopub.status.busy": "2025-06-29T17:22:36.611734Z",
     "iopub.status.idle": "2025-06-29T17:22:36.639693Z",
     "shell.execute_reply": "2025-06-29T17:22:36.638660Z"
    },
    "papermill": {
     "duration": 0.034493,
     "end_time": "2025-06-29T17:22:36.641250",
     "exception": false,
     "start_time": "2025-06-29T17:22:36.606757",
     "status": "completed"
    },
    "tags": []
   },
   "outputs": [
    {
     "data": {
      "text/html": [
       "<div>\n",
       "<style scoped>\n",
       "    .dataframe tbody tr th:only-of-type {\n",
       "        vertical-align: middle;\n",
       "    }\n",
       "\n",
       "    .dataframe tbody tr th {\n",
       "        vertical-align: top;\n",
       "    }\n",
       "\n",
       "    .dataframe thead th {\n",
       "        text-align: right;\n",
       "    }\n",
       "</style>\n",
       "<table border=\"1\" class=\"dataframe\">\n",
       "  <thead>\n",
       "    <tr style=\"text-align: right;\">\n",
       "      <th></th>\n",
       "      <th>id</th>\n",
       "      <th>Temparature</th>\n",
       "      <th>Humidity</th>\n",
       "      <th>Moisture</th>\n",
       "      <th>Soil Type</th>\n",
       "      <th>Crop Type</th>\n",
       "      <th>Nitrogen</th>\n",
       "      <th>Potassium</th>\n",
       "      <th>Phosphorous</th>\n",
       "      <th>Fertilizer Name</th>\n",
       "    </tr>\n",
       "  </thead>\n",
       "  <tbody>\n",
       "    <tr>\n",
       "      <th>0</th>\n",
       "      <td>0</td>\n",
       "      <td>37</td>\n",
       "      <td>70</td>\n",
       "      <td>36</td>\n",
       "      <td>Clayey</td>\n",
       "      <td>Sugarcane</td>\n",
       "      <td>36</td>\n",
       "      <td>4</td>\n",
       "      <td>5</td>\n",
       "      <td>28-28</td>\n",
       "    </tr>\n",
       "    <tr>\n",
       "      <th>1</th>\n",
       "      <td>1</td>\n",
       "      <td>27</td>\n",
       "      <td>69</td>\n",
       "      <td>65</td>\n",
       "      <td>Sandy</td>\n",
       "      <td>Millets</td>\n",
       "      <td>30</td>\n",
       "      <td>6</td>\n",
       "      <td>18</td>\n",
       "      <td>28-28</td>\n",
       "    </tr>\n",
       "    <tr>\n",
       "      <th>2</th>\n",
       "      <td>2</td>\n",
       "      <td>29</td>\n",
       "      <td>63</td>\n",
       "      <td>32</td>\n",
       "      <td>Sandy</td>\n",
       "      <td>Millets</td>\n",
       "      <td>24</td>\n",
       "      <td>12</td>\n",
       "      <td>16</td>\n",
       "      <td>17-17-17</td>\n",
       "    </tr>\n",
       "    <tr>\n",
       "      <th>3</th>\n",
       "      <td>3</td>\n",
       "      <td>35</td>\n",
       "      <td>62</td>\n",
       "      <td>54</td>\n",
       "      <td>Sandy</td>\n",
       "      <td>Barley</td>\n",
       "      <td>39</td>\n",
       "      <td>12</td>\n",
       "      <td>4</td>\n",
       "      <td>10-26-26</td>\n",
       "    </tr>\n",
       "    <tr>\n",
       "      <th>4</th>\n",
       "      <td>4</td>\n",
       "      <td>35</td>\n",
       "      <td>58</td>\n",
       "      <td>43</td>\n",
       "      <td>Red</td>\n",
       "      <td>Paddy</td>\n",
       "      <td>37</td>\n",
       "      <td>2</td>\n",
       "      <td>16</td>\n",
       "      <td>DAP</td>\n",
       "    </tr>\n",
       "  </tbody>\n",
       "</table>\n",
       "</div>"
      ],
      "text/plain": [
       "   id  Temparature  Humidity  Moisture Soil Type  Crop Type  Nitrogen  \\\n",
       "0   0           37        70        36    Clayey  Sugarcane        36   \n",
       "1   1           27        69        65     Sandy    Millets        30   \n",
       "2   2           29        63        32     Sandy    Millets        24   \n",
       "3   3           35        62        54     Sandy     Barley        39   \n",
       "4   4           35        58        43       Red      Paddy        37   \n",
       "\n",
       "   Potassium  Phosphorous Fertilizer Name  \n",
       "0          4            5           28-28  \n",
       "1          6           18           28-28  \n",
       "2         12           16        17-17-17  \n",
       "3         12            4        10-26-26  \n",
       "4          2           16             DAP  "
      ]
     },
     "execution_count": 4,
     "metadata": {},
     "output_type": "execute_result"
    }
   ],
   "source": [
    "train.head()"
   ]
  },
  {
   "cell_type": "code",
   "execution_count": 5,
   "id": "7a33b8ac",
   "metadata": {
    "execution": {
     "iopub.execute_input": "2025-06-29T17:22:36.651492Z",
     "iopub.status.busy": "2025-06-29T17:22:36.650795Z",
     "iopub.status.idle": "2025-06-29T17:22:36.661083Z",
     "shell.execute_reply": "2025-06-29T17:22:36.660187Z"
    },
    "papermill": {
     "duration": 0.01679,
     "end_time": "2025-06-29T17:22:36.662510",
     "exception": false,
     "start_time": "2025-06-29T17:22:36.645720",
     "status": "completed"
    },
    "tags": []
   },
   "outputs": [
    {
     "data": {
      "text/html": [
       "<div>\n",
       "<style scoped>\n",
       "    .dataframe tbody tr th:only-of-type {\n",
       "        vertical-align: middle;\n",
       "    }\n",
       "\n",
       "    .dataframe tbody tr th {\n",
       "        vertical-align: top;\n",
       "    }\n",
       "\n",
       "    .dataframe thead th {\n",
       "        text-align: right;\n",
       "    }\n",
       "</style>\n",
       "<table border=\"1\" class=\"dataframe\">\n",
       "  <thead>\n",
       "    <tr style=\"text-align: right;\">\n",
       "      <th></th>\n",
       "      <th>id</th>\n",
       "      <th>Temparature</th>\n",
       "      <th>Humidity</th>\n",
       "      <th>Moisture</th>\n",
       "      <th>Soil Type</th>\n",
       "      <th>Crop Type</th>\n",
       "      <th>Nitrogen</th>\n",
       "      <th>Potassium</th>\n",
       "      <th>Phosphorous</th>\n",
       "    </tr>\n",
       "  </thead>\n",
       "  <tbody>\n",
       "    <tr>\n",
       "      <th>0</th>\n",
       "      <td>750000</td>\n",
       "      <td>31</td>\n",
       "      <td>70</td>\n",
       "      <td>52</td>\n",
       "      <td>Sandy</td>\n",
       "      <td>Wheat</td>\n",
       "      <td>34</td>\n",
       "      <td>11</td>\n",
       "      <td>24</td>\n",
       "    </tr>\n",
       "    <tr>\n",
       "      <th>1</th>\n",
       "      <td>750001</td>\n",
       "      <td>27</td>\n",
       "      <td>62</td>\n",
       "      <td>45</td>\n",
       "      <td>Red</td>\n",
       "      <td>Sugarcane</td>\n",
       "      <td>30</td>\n",
       "      <td>14</td>\n",
       "      <td>15</td>\n",
       "    </tr>\n",
       "    <tr>\n",
       "      <th>2</th>\n",
       "      <td>750002</td>\n",
       "      <td>28</td>\n",
       "      <td>72</td>\n",
       "      <td>28</td>\n",
       "      <td>Clayey</td>\n",
       "      <td>Ground Nuts</td>\n",
       "      <td>14</td>\n",
       "      <td>15</td>\n",
       "      <td>4</td>\n",
       "    </tr>\n",
       "    <tr>\n",
       "      <th>3</th>\n",
       "      <td>750003</td>\n",
       "      <td>37</td>\n",
       "      <td>53</td>\n",
       "      <td>57</td>\n",
       "      <td>Black</td>\n",
       "      <td>Ground Nuts</td>\n",
       "      <td>18</td>\n",
       "      <td>17</td>\n",
       "      <td>36</td>\n",
       "    </tr>\n",
       "    <tr>\n",
       "      <th>4</th>\n",
       "      <td>750004</td>\n",
       "      <td>31</td>\n",
       "      <td>55</td>\n",
       "      <td>32</td>\n",
       "      <td>Red</td>\n",
       "      <td>Pulses</td>\n",
       "      <td>13</td>\n",
       "      <td>19</td>\n",
       "      <td>14</td>\n",
       "    </tr>\n",
       "  </tbody>\n",
       "</table>\n",
       "</div>"
      ],
      "text/plain": [
       "       id  Temparature  Humidity  Moisture Soil Type    Crop Type  Nitrogen  \\\n",
       "0  750000           31        70        52     Sandy        Wheat        34   \n",
       "1  750001           27        62        45       Red    Sugarcane        30   \n",
       "2  750002           28        72        28    Clayey  Ground Nuts        14   \n",
       "3  750003           37        53        57     Black  Ground Nuts        18   \n",
       "4  750004           31        55        32       Red       Pulses        13   \n",
       "\n",
       "   Potassium  Phosphorous  \n",
       "0         11           24  \n",
       "1         14           15  \n",
       "2         15            4  \n",
       "3         17           36  \n",
       "4         19           14  "
      ]
     },
     "execution_count": 5,
     "metadata": {},
     "output_type": "execute_result"
    }
   ],
   "source": [
    "test.head()"
   ]
  },
  {
   "cell_type": "code",
   "execution_count": null,
   "id": "a6895ce6",
   "metadata": {
    "papermill": {
     "duration": 0.004006,
     "end_time": "2025-06-29T17:22:36.671019",
     "exception": false,
     "start_time": "2025-06-29T17:22:36.667013",
     "status": "completed"
    },
    "tags": []
   },
   "outputs": [],
   "source": []
  },
  {
   "cell_type": "code",
   "execution_count": 6,
   "id": "c949ec57",
   "metadata": {
    "execution": {
     "iopub.execute_input": "2025-06-29T17:22:36.680844Z",
     "iopub.status.busy": "2025-06-29T17:22:36.680514Z",
     "iopub.status.idle": "2025-06-29T17:22:36.710488Z",
     "shell.execute_reply": "2025-06-29T17:22:36.709313Z"
    },
    "papermill": {
     "duration": 0.037106,
     "end_time": "2025-06-29T17:22:36.712527",
     "exception": false,
     "start_time": "2025-06-29T17:22:36.675421",
     "status": "completed"
    },
    "tags": []
   },
   "outputs": [],
   "source": [
    "X = train.drop(columns = ['id','Fertilizer Name'])\n",
    "y = train['Fertilizer Name']"
   ]
  },
  {
   "cell_type": "code",
   "execution_count": 7,
   "id": "7e2369c9",
   "metadata": {
    "execution": {
     "iopub.execute_input": "2025-06-29T17:22:36.722628Z",
     "iopub.status.busy": "2025-06-29T17:22:36.722274Z",
     "iopub.status.idle": "2025-06-29T17:22:36.763350Z",
     "shell.execute_reply": "2025-06-29T17:22:36.762212Z"
    },
    "papermill": {
     "duration": 0.048342,
     "end_time": "2025-06-29T17:22:36.765290",
     "exception": false,
     "start_time": "2025-06-29T17:22:36.716948",
     "status": "completed"
    },
    "tags": []
   },
   "outputs": [],
   "source": [
    "X = train.drop(columns=['id', 'Fertilizer Name'])\n",
    "y = train['Fertilizer Name']\n",
    "\n",
    "X_test = test.drop(columns=['id'])\n",
    "\n"
   ]
  },
  {
   "cell_type": "code",
   "execution_count": 8,
   "id": "700e7435",
   "metadata": {
    "execution": {
     "iopub.execute_input": "2025-06-29T17:22:36.775909Z",
     "iopub.status.busy": "2025-06-29T17:22:36.775538Z",
     "iopub.status.idle": "2025-06-29T17:22:38.279760Z",
     "shell.execute_reply": "2025-06-29T17:22:38.278815Z"
    },
    "papermill": {
     "duration": 1.511808,
     "end_time": "2025-06-29T17:22:38.281987",
     "exception": false,
     "start_time": "2025-06-29T17:22:36.770179",
     "status": "completed"
    },
    "tags": []
   },
   "outputs": [],
   "source": [
    "from sklearn.preprocessing import LabelEncoder\n",
    "\n",
    "encoder_soil = LabelEncoder()\n",
    "encoder_crop = LabelEncoder()\n",
    "encoder_fertilizer = LabelEncoder()\n",
    "\n"
   ]
  },
  {
   "cell_type": "code",
   "execution_count": 9,
   "id": "2023e4fe",
   "metadata": {
    "execution": {
     "iopub.execute_input": "2025-06-29T17:22:38.293281Z",
     "iopub.status.busy": "2025-06-29T17:22:38.292471Z",
     "iopub.status.idle": "2025-06-29T17:22:38.573671Z",
     "shell.execute_reply": "2025-06-29T17:22:38.572509Z"
    },
    "papermill": {
     "duration": 0.288155,
     "end_time": "2025-06-29T17:22:38.575162",
     "exception": false,
     "start_time": "2025-06-29T17:22:38.287007",
     "status": "completed"
    },
    "tags": []
   },
   "outputs": [
    {
     "data": {
      "text/html": [
       "<div>\n",
       "<style scoped>\n",
       "    .dataframe tbody tr th:only-of-type {\n",
       "        vertical-align: middle;\n",
       "    }\n",
       "\n",
       "    .dataframe tbody tr th {\n",
       "        vertical-align: top;\n",
       "    }\n",
       "\n",
       "    .dataframe thead th {\n",
       "        text-align: right;\n",
       "    }\n",
       "</style>\n",
       "<table border=\"1\" class=\"dataframe\">\n",
       "  <thead>\n",
       "    <tr style=\"text-align: right;\">\n",
       "      <th></th>\n",
       "      <th>Temparature</th>\n",
       "      <th>Humidity</th>\n",
       "      <th>Moisture</th>\n",
       "      <th>Soil Type</th>\n",
       "      <th>Crop Type</th>\n",
       "      <th>Nitrogen</th>\n",
       "      <th>Potassium</th>\n",
       "      <th>Phosphorous</th>\n",
       "    </tr>\n",
       "  </thead>\n",
       "  <tbody>\n",
       "    <tr>\n",
       "      <th>0</th>\n",
       "      <td>37</td>\n",
       "      <td>70</td>\n",
       "      <td>36</td>\n",
       "      <td>1</td>\n",
       "      <td>8</td>\n",
       "      <td>36</td>\n",
       "      <td>4</td>\n",
       "      <td>5</td>\n",
       "    </tr>\n",
       "    <tr>\n",
       "      <th>1</th>\n",
       "      <td>27</td>\n",
       "      <td>69</td>\n",
       "      <td>65</td>\n",
       "      <td>4</td>\n",
       "      <td>4</td>\n",
       "      <td>30</td>\n",
       "      <td>6</td>\n",
       "      <td>18</td>\n",
       "    </tr>\n",
       "    <tr>\n",
       "      <th>2</th>\n",
       "      <td>29</td>\n",
       "      <td>63</td>\n",
       "      <td>32</td>\n",
       "      <td>4</td>\n",
       "      <td>4</td>\n",
       "      <td>24</td>\n",
       "      <td>12</td>\n",
       "      <td>16</td>\n",
       "    </tr>\n",
       "    <tr>\n",
       "      <th>3</th>\n",
       "      <td>35</td>\n",
       "      <td>62</td>\n",
       "      <td>54</td>\n",
       "      <td>4</td>\n",
       "      <td>0</td>\n",
       "      <td>39</td>\n",
       "      <td>12</td>\n",
       "      <td>4</td>\n",
       "    </tr>\n",
       "    <tr>\n",
       "      <th>4</th>\n",
       "      <td>35</td>\n",
       "      <td>58</td>\n",
       "      <td>43</td>\n",
       "      <td>3</td>\n",
       "      <td>6</td>\n",
       "      <td>37</td>\n",
       "      <td>2</td>\n",
       "      <td>16</td>\n",
       "    </tr>\n",
       "  </tbody>\n",
       "</table>\n",
       "</div>"
      ],
      "text/plain": [
       "   Temparature  Humidity  Moisture  Soil Type  Crop Type  Nitrogen  Potassium  \\\n",
       "0           37        70        36          1          8        36          4   \n",
       "1           27        69        65          4          4        30          6   \n",
       "2           29        63        32          4          4        24         12   \n",
       "3           35        62        54          4          0        39         12   \n",
       "4           35        58        43          3          6        37          2   \n",
       "\n",
       "   Phosphorous  \n",
       "0            5  \n",
       "1           18  \n",
       "2           16  \n",
       "3            4  \n",
       "4           16  "
      ]
     },
     "execution_count": 9,
     "metadata": {},
     "output_type": "execute_result"
    }
   ],
   "source": [
    "X['Soil Type'] = encoder_soil.fit_transform(X['Soil Type'])\n",
    "X['Crop Type'] = encoder_crop.fit_transform(X['Crop Type'])\n",
    "\n",
    "X.head()"
   ]
  },
  {
   "cell_type": "code",
   "execution_count": 10,
   "id": "caff8f88",
   "metadata": {
    "execution": {
     "iopub.execute_input": "2025-06-29T17:22:38.585341Z",
     "iopub.status.busy": "2025-06-29T17:22:38.585012Z",
     "iopub.status.idle": "2025-06-29T17:22:38.736408Z",
     "shell.execute_reply": "2025-06-29T17:22:38.735478Z"
    },
    "papermill": {
     "duration": 0.158133,
     "end_time": "2025-06-29T17:22:38.737893",
     "exception": false,
     "start_time": "2025-06-29T17:22:38.579760",
     "status": "completed"
    },
    "tags": []
   },
   "outputs": [
    {
     "data": {
      "text/plain": [
       "0       28-28\n",
       "1       28-28\n",
       "2    17-17-17\n",
       "3    10-26-26\n",
       "4         DAP\n",
       "Name: Fertilizer Name, dtype: object"
      ]
     },
     "execution_count": 10,
     "metadata": {},
     "output_type": "execute_result"
    }
   ],
   "source": [
    "y_encode = encoder_fertilizer.fit_transform(y)\n",
    "\n",
    "\n",
    "y_encode[:5]\n",
    "\n",
    "y.head()"
   ]
  },
  {
   "cell_type": "code",
   "execution_count": 11,
   "id": "24a5ec02",
   "metadata": {
    "execution": {
     "iopub.execute_input": "2025-06-29T17:22:38.748368Z",
     "iopub.status.busy": "2025-06-29T17:22:38.748038Z",
     "iopub.status.idle": "2025-06-29T17:22:38.850223Z",
     "shell.execute_reply": "2025-06-29T17:22:38.849240Z"
    },
    "papermill": {
     "duration": 0.109278,
     "end_time": "2025-06-29T17:22:38.851867",
     "exception": false,
     "start_time": "2025-06-29T17:22:38.742589",
     "status": "completed"
    },
    "tags": []
   },
   "outputs": [
    {
     "data": {
      "text/html": [
       "<div>\n",
       "<style scoped>\n",
       "    .dataframe tbody tr th:only-of-type {\n",
       "        vertical-align: middle;\n",
       "    }\n",
       "\n",
       "    .dataframe tbody tr th {\n",
       "        vertical-align: top;\n",
       "    }\n",
       "\n",
       "    .dataframe thead th {\n",
       "        text-align: right;\n",
       "    }\n",
       "</style>\n",
       "<table border=\"1\" class=\"dataframe\">\n",
       "  <thead>\n",
       "    <tr style=\"text-align: right;\">\n",
       "      <th></th>\n",
       "      <th>Temparature</th>\n",
       "      <th>Humidity</th>\n",
       "      <th>Moisture</th>\n",
       "      <th>Soil Type</th>\n",
       "      <th>Crop Type</th>\n",
       "      <th>Nitrogen</th>\n",
       "      <th>Potassium</th>\n",
       "      <th>Phosphorous</th>\n",
       "    </tr>\n",
       "  </thead>\n",
       "  <tbody>\n",
       "    <tr>\n",
       "      <th>0</th>\n",
       "      <td>31</td>\n",
       "      <td>70</td>\n",
       "      <td>52</td>\n",
       "      <td>4</td>\n",
       "      <td>10</td>\n",
       "      <td>34</td>\n",
       "      <td>11</td>\n",
       "      <td>24</td>\n",
       "    </tr>\n",
       "    <tr>\n",
       "      <th>1</th>\n",
       "      <td>27</td>\n",
       "      <td>62</td>\n",
       "      <td>45</td>\n",
       "      <td>3</td>\n",
       "      <td>8</td>\n",
       "      <td>30</td>\n",
       "      <td>14</td>\n",
       "      <td>15</td>\n",
       "    </tr>\n",
       "    <tr>\n",
       "      <th>2</th>\n",
       "      <td>28</td>\n",
       "      <td>72</td>\n",
       "      <td>28</td>\n",
       "      <td>1</td>\n",
       "      <td>2</td>\n",
       "      <td>14</td>\n",
       "      <td>15</td>\n",
       "      <td>4</td>\n",
       "    </tr>\n",
       "    <tr>\n",
       "      <th>3</th>\n",
       "      <td>37</td>\n",
       "      <td>53</td>\n",
       "      <td>57</td>\n",
       "      <td>0</td>\n",
       "      <td>2</td>\n",
       "      <td>18</td>\n",
       "      <td>17</td>\n",
       "      <td>36</td>\n",
       "    </tr>\n",
       "    <tr>\n",
       "      <th>4</th>\n",
       "      <td>31</td>\n",
       "      <td>55</td>\n",
       "      <td>32</td>\n",
       "      <td>3</td>\n",
       "      <td>7</td>\n",
       "      <td>13</td>\n",
       "      <td>19</td>\n",
       "      <td>14</td>\n",
       "    </tr>\n",
       "  </tbody>\n",
       "</table>\n",
       "</div>"
      ],
      "text/plain": [
       "   Temparature  Humidity  Moisture  Soil Type  Crop Type  Nitrogen  Potassium  \\\n",
       "0           31        70        52          4         10        34         11   \n",
       "1           27        62        45          3          8        30         14   \n",
       "2           28        72        28          1          2        14         15   \n",
       "3           37        53        57          0          2        18         17   \n",
       "4           31        55        32          3          7        13         19   \n",
       "\n",
       "   Phosphorous  \n",
       "0           24  \n",
       "1           15  \n",
       "2            4  \n",
       "3           36  \n",
       "4           14  "
      ]
     },
     "execution_count": 11,
     "metadata": {},
     "output_type": "execute_result"
    }
   ],
   "source": [
    "\n",
    "X_test['Soil Type'] = encoder_soil.fit_transform(X_test['Soil Type'])\n",
    "X_test['Crop Type'] = encoder_crop.fit_transform(X_test['Crop Type'])\n",
    "\n",
    "\n",
    "X_test.head()"
   ]
  },
  {
   "cell_type": "code",
   "execution_count": 12,
   "id": "49dfdbd9",
   "metadata": {
    "execution": {
     "iopub.execute_input": "2025-06-29T17:22:38.862729Z",
     "iopub.status.busy": "2025-06-29T17:22:38.862359Z",
     "iopub.status.idle": "2025-06-29T17:22:39.136929Z",
     "shell.execute_reply": "2025-06-29T17:22:39.135865Z"
    },
    "papermill": {
     "duration": 0.281953,
     "end_time": "2025-06-29T17:22:39.138711",
     "exception": false,
     "start_time": "2025-06-29T17:22:38.856758",
     "status": "completed"
    },
    "tags": []
   },
   "outputs": [],
   "source": [
    "from sklearn.model_selection import train_test_split\n",
    "\n",
    "X_train, X_val, y_train, y_val = train_test_split(X, y_encode, test_size=0.2, random_state=42)\n",
    "\n"
   ]
  },
  {
   "cell_type": "code",
   "execution_count": 13,
   "id": "c9e6e11f",
   "metadata": {
    "execution": {
     "iopub.execute_input": "2025-06-29T17:22:39.150896Z",
     "iopub.status.busy": "2025-06-29T17:22:39.150569Z",
     "iopub.status.idle": "2025-06-29T17:25:09.960852Z",
     "shell.execute_reply": "2025-06-29T17:25:09.959964Z"
    },
    "papermill": {
     "duration": 150.823633,
     "end_time": "2025-06-29T17:25:09.967631",
     "exception": false,
     "start_time": "2025-06-29T17:22:39.143998",
     "status": "completed"
    },
    "tags": []
   },
   "outputs": [
    {
     "data": {
      "text/html": [
       "<style>#sk-container-id-1 {color: black;background-color: white;}#sk-container-id-1 pre{padding: 0;}#sk-container-id-1 div.sk-toggleable {background-color: white;}#sk-container-id-1 label.sk-toggleable__label {cursor: pointer;display: block;width: 100%;margin-bottom: 0;padding: 0.3em;box-sizing: border-box;text-align: center;}#sk-container-id-1 label.sk-toggleable__label-arrow:before {content: \"▸\";float: left;margin-right: 0.25em;color: #696969;}#sk-container-id-1 label.sk-toggleable__label-arrow:hover:before {color: black;}#sk-container-id-1 div.sk-estimator:hover label.sk-toggleable__label-arrow:before {color: black;}#sk-container-id-1 div.sk-toggleable__content {max-height: 0;max-width: 0;overflow: hidden;text-align: left;background-color: #f0f8ff;}#sk-container-id-1 div.sk-toggleable__content pre {margin: 0.2em;color: black;border-radius: 0.25em;background-color: #f0f8ff;}#sk-container-id-1 input.sk-toggleable__control:checked~div.sk-toggleable__content {max-height: 200px;max-width: 100%;overflow: auto;}#sk-container-id-1 input.sk-toggleable__control:checked~label.sk-toggleable__label-arrow:before {content: \"▾\";}#sk-container-id-1 div.sk-estimator input.sk-toggleable__control:checked~label.sk-toggleable__label {background-color: #d4ebff;}#sk-container-id-1 div.sk-label input.sk-toggleable__control:checked~label.sk-toggleable__label {background-color: #d4ebff;}#sk-container-id-1 input.sk-hidden--visually {border: 0;clip: rect(1px 1px 1px 1px);clip: rect(1px, 1px, 1px, 1px);height: 1px;margin: -1px;overflow: hidden;padding: 0;position: absolute;width: 1px;}#sk-container-id-1 div.sk-estimator {font-family: monospace;background-color: #f0f8ff;border: 1px dotted black;border-radius: 0.25em;box-sizing: border-box;margin-bottom: 0.5em;}#sk-container-id-1 div.sk-estimator:hover {background-color: #d4ebff;}#sk-container-id-1 div.sk-parallel-item::after {content: \"\";width: 100%;border-bottom: 1px solid gray;flex-grow: 1;}#sk-container-id-1 div.sk-label:hover label.sk-toggleable__label {background-color: #d4ebff;}#sk-container-id-1 div.sk-serial::before {content: \"\";position: absolute;border-left: 1px solid gray;box-sizing: border-box;top: 0;bottom: 0;left: 50%;z-index: 0;}#sk-container-id-1 div.sk-serial {display: flex;flex-direction: column;align-items: center;background-color: white;padding-right: 0.2em;padding-left: 0.2em;position: relative;}#sk-container-id-1 div.sk-item {position: relative;z-index: 1;}#sk-container-id-1 div.sk-parallel {display: flex;align-items: stretch;justify-content: center;background-color: white;position: relative;}#sk-container-id-1 div.sk-item::before, #sk-container-id-1 div.sk-parallel-item::before {content: \"\";position: absolute;border-left: 1px solid gray;box-sizing: border-box;top: 0;bottom: 0;left: 50%;z-index: -1;}#sk-container-id-1 div.sk-parallel-item {display: flex;flex-direction: column;z-index: 1;position: relative;background-color: white;}#sk-container-id-1 div.sk-parallel-item:first-child::after {align-self: flex-end;width: 50%;}#sk-container-id-1 div.sk-parallel-item:last-child::after {align-self: flex-start;width: 50%;}#sk-container-id-1 div.sk-parallel-item:only-child::after {width: 0;}#sk-container-id-1 div.sk-dashed-wrapped {border: 1px dashed gray;margin: 0 0.4em 0.5em 0.4em;box-sizing: border-box;padding-bottom: 0.4em;background-color: white;}#sk-container-id-1 div.sk-label label {font-family: monospace;font-weight: bold;display: inline-block;line-height: 1.2em;}#sk-container-id-1 div.sk-label-container {text-align: center;}#sk-container-id-1 div.sk-container {/* jupyter's `normalize.less` sets `[hidden] { display: none; }` but bootstrap.min.css set `[hidden] { display: none !important; }` so we also need the `!important` here to be able to override the default hidden behavior on the sphinx rendered scikit-learn.org. See: https://github.com/scikit-learn/scikit-learn/issues/21755 */display: inline-block !important;position: relative;}#sk-container-id-1 div.sk-text-repr-fallback {display: none;}</style><div id=\"sk-container-id-1\" class=\"sk-top-container\"><div class=\"sk-text-repr-fallback\"><pre>RandomForestClassifier(random_state=42)</pre><b>In a Jupyter environment, please rerun this cell to show the HTML representation or trust the notebook. <br />On GitHub, the HTML representation is unable to render, please try loading this page with nbviewer.org.</b></div><div class=\"sk-container\" hidden><div class=\"sk-item\"><div class=\"sk-estimator sk-toggleable\"><input class=\"sk-toggleable__control sk-hidden--visually\" id=\"sk-estimator-id-1\" type=\"checkbox\" checked><label for=\"sk-estimator-id-1\" class=\"sk-toggleable__label sk-toggleable__label-arrow\">RandomForestClassifier</label><div class=\"sk-toggleable__content\"><pre>RandomForestClassifier(random_state=42)</pre></div></div></div></div></div>"
      ],
      "text/plain": [
       "RandomForestClassifier(random_state=42)"
      ]
     },
     "execution_count": 13,
     "metadata": {},
     "output_type": "execute_result"
    }
   ],
   "source": [
    "from sklearn.ensemble import RandomForestClassifier\n",
    "\n",
    "model = RandomForestClassifier(n_estimators=100, random_state=42)\n",
    "model.fit(X_train, y_train)\n",
    "\n"
   ]
  },
  {
   "cell_type": "code",
   "execution_count": 14,
   "id": "a03af667",
   "metadata": {
    "execution": {
     "iopub.execute_input": "2025-06-29T17:25:09.978875Z",
     "iopub.status.busy": "2025-06-29T17:25:09.978586Z",
     "iopub.status.idle": "2025-06-29T17:25:53.232136Z",
     "shell.execute_reply": "2025-06-29T17:25:53.231067Z"
    },
    "papermill": {
     "duration": 43.265456,
     "end_time": "2025-06-29T17:25:53.238222",
     "exception": false,
     "start_time": "2025-06-29T17:25:09.972766",
     "status": "completed"
    },
    "tags": []
   },
   "outputs": [
    {
     "name": "stdout",
     "output_type": "stream",
     "text": [
      "[[0.06 0.08 0.12 0.1  0.19 0.26 0.19]\n",
      " [0.09 0.06 0.32 0.09 0.12 0.2  0.12]\n",
      " [0.17 0.05 0.1  0.25 0.08 0.14 0.21]\n",
      " [0.04 0.1  0.23 0.1  0.07 0.15 0.31]\n",
      " [0.14 0.09 0.2  0.31 0.12 0.06 0.08]]\n",
      "['DAP' '17-17-17' '20-20' 'Urea' '20-20']\n"
     ]
    }
   ],
   "source": [
    "\n",
    "y_probs = model.predict_proba(X_test)\n",
    "\n",
    "\n",
    "y_pred_encoded = model.predict(X_test)\n",
    "\n",
    "\n",
    "y_pred_labels = encoder_fertilizer.inverse_transform(y_pred_encoded)\n",
    "\n",
    "print(y_probs[:5])\n",
    "print(y_pred_labels[:5])"
   ]
  },
  {
   "cell_type": "code",
   "execution_count": 15,
   "id": "ab7068b6",
   "metadata": {
    "execution": {
     "iopub.execute_input": "2025-06-29T17:25:53.249524Z",
     "iopub.status.busy": "2025-06-29T17:25:53.249182Z",
     "iopub.status.idle": "2025-06-29T17:26:17.436916Z",
     "shell.execute_reply": "2025-06-29T17:26:17.435682Z"
    },
    "papermill": {
     "duration": 24.195357,
     "end_time": "2025-06-29T17:26:17.438888",
     "exception": false,
     "start_time": "2025-06-29T17:25:53.243531",
     "status": "completed"
    },
    "tags": []
   },
   "outputs": [
    {
     "name": "stdout",
     "output_type": "stream",
     "text": [
      "Submission file created successfully!\n",
      "       id          Fertilizer Name\n",
      "0  750000           DAP Urea 28-28\n",
      "1  750001        17-17-17 DAP Urea\n",
      "2  750002      20-20 Urea 10-26-26\n",
      "3  750003        Urea 17-17-17 DAP\n",
      "4  750004  20-20 17-17-17 10-26-26\n"
     ]
    }
   ],
   "source": [
    "import numpy as np\n",
    "\n",
    "top3 = np.argsort(y_probs, axis=1)[:, -3:][:, ::-1]\n",
    "\n",
    "\n",
    "top3_labels_list = [encoder_fertilizer.inverse_transform(row) for row in top3]\n",
    "\n",
    "submission = pd.DataFrame({\n",
    "    'id': test['id'],\n",
    "    'Fertilizer Name': [' '.join(pred_list) for pred_list in top3_labels_list]\n",
    "})\n",
    "\n",
    "submission.to_csv(\"submission.csv\", index=False)\n",
    "\n",
    "print(\"Submission file created successfully!\")\n",
    "print(submission.head())"
   ]
  },
  {
   "cell_type": "code",
   "execution_count": null,
   "id": "62fdba19",
   "metadata": {
    "papermill": {
     "duration": 0.004766,
     "end_time": "2025-06-29T17:26:17.448934",
     "exception": false,
     "start_time": "2025-06-29T17:26:17.444168",
     "status": "completed"
    },
    "tags": []
   },
   "outputs": [],
   "source": []
  },
  {
   "cell_type": "code",
   "execution_count": null,
   "id": "4591c2c3",
   "metadata": {
    "papermill": {
     "duration": 0.004669,
     "end_time": "2025-06-29T17:26:17.458544",
     "exception": false,
     "start_time": "2025-06-29T17:26:17.453875",
     "status": "completed"
    },
    "tags": []
   },
   "outputs": [],
   "source": []
  },
  {
   "cell_type": "code",
   "execution_count": null,
   "id": "9e9becf3",
   "metadata": {
    "papermill": {
     "duration": 0.004718,
     "end_time": "2025-06-29T17:26:17.468408",
     "exception": false,
     "start_time": "2025-06-29T17:26:17.463690",
     "status": "completed"
    },
    "tags": []
   },
   "outputs": [],
   "source": []
  },
  {
   "cell_type": "code",
   "execution_count": null,
   "id": "8f505813",
   "metadata": {
    "papermill": {
     "duration": 0.004505,
     "end_time": "2025-06-29T17:26:17.477771",
     "exception": false,
     "start_time": "2025-06-29T17:26:17.473266",
     "status": "completed"
    },
    "tags": []
   },
   "outputs": [],
   "source": []
  },
  {
   "cell_type": "code",
   "execution_count": null,
   "id": "7ae962a5",
   "metadata": {
    "papermill": {
     "duration": 0.004807,
     "end_time": "2025-06-29T17:26:17.487522",
     "exception": false,
     "start_time": "2025-06-29T17:26:17.482715",
     "status": "completed"
    },
    "tags": []
   },
   "outputs": [],
   "source": []
  },
  {
   "cell_type": "code",
   "execution_count": null,
   "id": "22f5fd02",
   "metadata": {
    "papermill": {
     "duration": 0.004622,
     "end_time": "2025-06-29T17:26:17.497114",
     "exception": false,
     "start_time": "2025-06-29T17:26:17.492492",
     "status": "completed"
    },
    "tags": []
   },
   "outputs": [],
   "source": []
  },
  {
   "cell_type": "code",
   "execution_count": null,
   "id": "f1ba0c8d",
   "metadata": {
    "papermill": {
     "duration": 0.004584,
     "end_time": "2025-06-29T17:26:17.506448",
     "exception": false,
     "start_time": "2025-06-29T17:26:17.501864",
     "status": "completed"
    },
    "tags": []
   },
   "outputs": [],
   "source": []
  }
 ],
 "metadata": {
  "kaggle": {
   "accelerator": "none",
   "dataSources": [
    {
     "databundleVersionId": 12184666,
     "sourceId": 91717,
     "sourceType": "competition"
    }
   ],
   "dockerImageVersionId": 31040,
   "isGpuEnabled": false,
   "isInternetEnabled": true,
   "language": "python",
   "sourceType": "notebook"
  },
  "kernelspec": {
   "display_name": "Python 3",
   "language": "python",
   "name": "python3"
  },
  "language_info": {
   "codemirror_mode": {
    "name": "ipython",
    "version": 3
   },
   "file_extension": ".py",
   "mimetype": "text/x-python",
   "name": "python",
   "nbconvert_exporter": "python",
   "pygments_lexer": "ipython3",
   "version": "3.11.11"
  },
  "papermill": {
   "default_parameters": {},
   "duration": 231.713014,
   "end_time": "2025-06-29T17:26:19.036021",
   "environment_variables": {},
   "exception": null,
   "input_path": "__notebook__.ipynb",
   "output_path": "__notebook__.ipynb",
   "parameters": {},
   "start_time": "2025-06-29T17:22:27.323007",
   "version": "2.6.0"
  }
 },
 "nbformat": 4,
 "nbformat_minor": 5
}
