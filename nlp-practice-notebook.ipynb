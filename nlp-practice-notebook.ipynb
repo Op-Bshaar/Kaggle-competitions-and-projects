{
 "cells": [
  {
   "cell_type": "code",
   "execution_count": 1,
   "id": "2c13f625",
   "metadata": {
    "_cell_guid": "b1076dfc-b9ad-4769-8c92-a6c4dae69d19",
    "_uuid": "8f2839f25d086af736a60e9eeb907d3b93b6e0e5",
    "execution": {
     "iopub.execute_input": "2025-07-06T19:03:27.650624Z",
     "iopub.status.busy": "2025-07-06T19:03:27.650199Z",
     "iopub.status.idle": "2025-07-06T19:03:29.738090Z",
     "shell.execute_reply": "2025-07-06T19:03:29.736888Z"
    },
    "papermill": {
     "duration": 2.094846,
     "end_time": "2025-07-06T19:03:29.740118",
     "exception": false,
     "start_time": "2025-07-06T19:03:27.645272",
     "status": "completed"
    },
    "tags": []
   },
   "outputs": [
    {
     "name": "stdout",
     "output_type": "stream",
     "text": [
      "/kaggle/input/nlp-getting-started/sample_submission.csv\n",
      "/kaggle/input/nlp-getting-started/train.csv\n",
      "/kaggle/input/nlp-getting-started/test.csv\n"
     ]
    }
   ],
   "source": [
    "# This Python 3 environment comes with many helpful analytics libraries installed\n",
    "# It is defined by the kaggle/python Docker image: https://github.com/kaggle/docker-python\n",
    "# For example, here's several helpful packages to load\n",
    "\n",
    "import numpy as np # linear algebra\n",
    "import pandas as pd # data processing, CSV file I/O (e.g. pd.read_csv)\n",
    "\n",
    "# Input data files are available in the read-only \"../input/\" directory\n",
    "# For example, running this (by clicking run or pressing Shift+Enter) will list all files under the input directory\n",
    "\n",
    "import os\n",
    "for dirname, _, filenames in os.walk('/kaggle/input'):\n",
    "    for filename in filenames:\n",
    "        print(os.path.join(dirname, filename))\n",
    "\n",
    "# You can write up to 20GB to the current directory (/kaggle/working/) that gets preserved as output when you create a version using \"Save & Run All\" \n",
    "# You can also write temporary files to /kaggle/temp/, but they won't be saved outside of the current session"
   ]
  },
  {
   "cell_type": "code",
   "execution_count": 2,
   "id": "5856c0a5",
   "metadata": {
    "execution": {
     "iopub.execute_input": "2025-07-06T19:03:29.750502Z",
     "iopub.status.busy": "2025-07-06T19:03:29.749108Z",
     "iopub.status.idle": "2025-07-06T19:03:29.754979Z",
     "shell.execute_reply": "2025-07-06T19:03:29.753970Z"
    },
    "papermill": {
     "duration": 0.012278,
     "end_time": "2025-07-06T19:03:29.757150",
     "exception": false,
     "start_time": "2025-07-06T19:03:29.744872",
     "status": "completed"
    },
    "tags": []
   },
   "outputs": [],
   "source": [
    "import pandas as pd\n",
    "import numpy as np\n"
   ]
  },
  {
   "cell_type": "code",
   "execution_count": 3,
   "id": "a346df13",
   "metadata": {
    "execution": {
     "iopub.execute_input": "2025-07-06T19:03:29.765161Z",
     "iopub.status.busy": "2025-07-06T19:03:29.764860Z",
     "iopub.status.idle": "2025-07-06T19:03:29.873749Z",
     "shell.execute_reply": "2025-07-06T19:03:29.872832Z"
    },
    "papermill": {
     "duration": 0.115858,
     "end_time": "2025-07-06T19:03:29.876275",
     "exception": false,
     "start_time": "2025-07-06T19:03:29.760417",
     "status": "completed"
    },
    "tags": []
   },
   "outputs": [
    {
     "data": {
      "text/html": [
       "<div>\n",
       "<style scoped>\n",
       "    .dataframe tbody tr th:only-of-type {\n",
       "        vertical-align: middle;\n",
       "    }\n",
       "\n",
       "    .dataframe tbody tr th {\n",
       "        vertical-align: top;\n",
       "    }\n",
       "\n",
       "    .dataframe thead th {\n",
       "        text-align: right;\n",
       "    }\n",
       "</style>\n",
       "<table border=\"1\" class=\"dataframe\">\n",
       "  <thead>\n",
       "    <tr style=\"text-align: right;\">\n",
       "      <th></th>\n",
       "      <th>id</th>\n",
       "      <th>keyword</th>\n",
       "      <th>location</th>\n",
       "      <th>text</th>\n",
       "      <th>target</th>\n",
       "    </tr>\n",
       "  </thead>\n",
       "  <tbody>\n",
       "    <tr>\n",
       "      <th>0</th>\n",
       "      <td>1</td>\n",
       "      <td>NaN</td>\n",
       "      <td>NaN</td>\n",
       "      <td>Our Deeds are the Reason of this #earthquake M...</td>\n",
       "      <td>1</td>\n",
       "    </tr>\n",
       "    <tr>\n",
       "      <th>1</th>\n",
       "      <td>4</td>\n",
       "      <td>NaN</td>\n",
       "      <td>NaN</td>\n",
       "      <td>Forest fire near La Ronge Sask. Canada</td>\n",
       "      <td>1</td>\n",
       "    </tr>\n",
       "    <tr>\n",
       "      <th>2</th>\n",
       "      <td>5</td>\n",
       "      <td>NaN</td>\n",
       "      <td>NaN</td>\n",
       "      <td>All residents asked to 'shelter in place' are ...</td>\n",
       "      <td>1</td>\n",
       "    </tr>\n",
       "    <tr>\n",
       "      <th>3</th>\n",
       "      <td>6</td>\n",
       "      <td>NaN</td>\n",
       "      <td>NaN</td>\n",
       "      <td>13,000 people receive #wildfires evacuation or...</td>\n",
       "      <td>1</td>\n",
       "    </tr>\n",
       "    <tr>\n",
       "      <th>4</th>\n",
       "      <td>7</td>\n",
       "      <td>NaN</td>\n",
       "      <td>NaN</td>\n",
       "      <td>Just got sent this photo from Ruby #Alaska as ...</td>\n",
       "      <td>1</td>\n",
       "    </tr>\n",
       "    <tr>\n",
       "      <th>...</th>\n",
       "      <td>...</td>\n",
       "      <td>...</td>\n",
       "      <td>...</td>\n",
       "      <td>...</td>\n",
       "      <td>...</td>\n",
       "    </tr>\n",
       "    <tr>\n",
       "      <th>7608</th>\n",
       "      <td>10869</td>\n",
       "      <td>NaN</td>\n",
       "      <td>NaN</td>\n",
       "      <td>Two giant cranes holding a bridge collapse int...</td>\n",
       "      <td>1</td>\n",
       "    </tr>\n",
       "    <tr>\n",
       "      <th>7609</th>\n",
       "      <td>10870</td>\n",
       "      <td>NaN</td>\n",
       "      <td>NaN</td>\n",
       "      <td>@aria_ahrary @TheTawniest The out of control w...</td>\n",
       "      <td>1</td>\n",
       "    </tr>\n",
       "    <tr>\n",
       "      <th>7610</th>\n",
       "      <td>10871</td>\n",
       "      <td>NaN</td>\n",
       "      <td>NaN</td>\n",
       "      <td>M1.94 [01:04 UTC]?5km S of Volcano Hawaii. htt...</td>\n",
       "      <td>1</td>\n",
       "    </tr>\n",
       "    <tr>\n",
       "      <th>7611</th>\n",
       "      <td>10872</td>\n",
       "      <td>NaN</td>\n",
       "      <td>NaN</td>\n",
       "      <td>Police investigating after an e-bike collided ...</td>\n",
       "      <td>1</td>\n",
       "    </tr>\n",
       "    <tr>\n",
       "      <th>7612</th>\n",
       "      <td>10873</td>\n",
       "      <td>NaN</td>\n",
       "      <td>NaN</td>\n",
       "      <td>The Latest: More Homes Razed by Northern Calif...</td>\n",
       "      <td>1</td>\n",
       "    </tr>\n",
       "  </tbody>\n",
       "</table>\n",
       "<p>7613 rows × 5 columns</p>\n",
       "</div>"
      ],
      "text/plain": [
       "         id keyword location  \\\n",
       "0         1     NaN      NaN   \n",
       "1         4     NaN      NaN   \n",
       "2         5     NaN      NaN   \n",
       "3         6     NaN      NaN   \n",
       "4         7     NaN      NaN   \n",
       "...     ...     ...      ...   \n",
       "7608  10869     NaN      NaN   \n",
       "7609  10870     NaN      NaN   \n",
       "7610  10871     NaN      NaN   \n",
       "7611  10872     NaN      NaN   \n",
       "7612  10873     NaN      NaN   \n",
       "\n",
       "                                                   text  target  \n",
       "0     Our Deeds are the Reason of this #earthquake M...       1  \n",
       "1                Forest fire near La Ronge Sask. Canada       1  \n",
       "2     All residents asked to 'shelter in place' are ...       1  \n",
       "3     13,000 people receive #wildfires evacuation or...       1  \n",
       "4     Just got sent this photo from Ruby #Alaska as ...       1  \n",
       "...                                                 ...     ...  \n",
       "7608  Two giant cranes holding a bridge collapse int...       1  \n",
       "7609  @aria_ahrary @TheTawniest The out of control w...       1  \n",
       "7610  M1.94 [01:04 UTC]?5km S of Volcano Hawaii. htt...       1  \n",
       "7611  Police investigating after an e-bike collided ...       1  \n",
       "7612  The Latest: More Homes Razed by Northern Calif...       1  \n",
       "\n",
       "[7613 rows x 5 columns]"
      ]
     },
     "execution_count": 3,
     "metadata": {},
     "output_type": "execute_result"
    }
   ],
   "source": [
    "train = pd.read_csv('/kaggle/input/nlp-getting-started/train.csv')\n",
    "test = pd.read_csv('/kaggle/input/nlp-getting-started/test.csv')\n",
    "train"
   ]
  },
  {
   "cell_type": "code",
   "execution_count": 4,
   "id": "05799ae8",
   "metadata": {
    "execution": {
     "iopub.execute_input": "2025-07-06T19:03:29.888483Z",
     "iopub.status.busy": "2025-07-06T19:03:29.887614Z",
     "iopub.status.idle": "2025-07-06T19:03:29.902619Z",
     "shell.execute_reply": "2025-07-06T19:03:29.901625Z"
    },
    "papermill": {
     "duration": 0.022993,
     "end_time": "2025-07-06T19:03:29.904348",
     "exception": false,
     "start_time": "2025-07-06T19:03:29.881355",
     "status": "completed"
    },
    "tags": []
   },
   "outputs": [],
   "source": [
    "train.drop('id',axis = 1,inplace = True)\n",
    "test.drop('id',axis = 1,inplace = True)"
   ]
  },
  {
   "cell_type": "code",
   "execution_count": 5,
   "id": "8eb305db",
   "metadata": {
    "execution": {
     "iopub.execute_input": "2025-07-06T19:03:29.914789Z",
     "iopub.status.busy": "2025-07-06T19:03:29.914337Z",
     "iopub.status.idle": "2025-07-06T19:03:29.940690Z",
     "shell.execute_reply": "2025-07-06T19:03:29.939380Z"
    },
    "papermill": {
     "duration": 0.03464,
     "end_time": "2025-07-06T19:03:29.942607",
     "exception": false,
     "start_time": "2025-07-06T19:03:29.907967",
     "status": "completed"
    },
    "tags": []
   },
   "outputs": [
    {
     "name": "stdout",
     "output_type": "stream",
     "text": [
      "<class 'pandas.core.frame.DataFrame'>\n",
      "RangeIndex: 7613 entries, 0 to 7612\n",
      "Data columns (total 4 columns):\n",
      " #   Column    Non-Null Count  Dtype \n",
      "---  ------    --------------  ----- \n",
      " 0   keyword   7552 non-null   object\n",
      " 1   location  5080 non-null   object\n",
      " 2   text      7613 non-null   object\n",
      " 3   target    7613 non-null   int64 \n",
      "dtypes: int64(1), object(3)\n",
      "memory usage: 238.0+ KB\n"
     ]
    }
   ],
   "source": [
    "train.info()"
   ]
  },
  {
   "cell_type": "code",
   "execution_count": 6,
   "id": "0dc394cb",
   "metadata": {
    "execution": {
     "iopub.execute_input": "2025-07-06T19:03:29.953381Z",
     "iopub.status.busy": "2025-07-06T19:03:29.952660Z",
     "iopub.status.idle": "2025-07-06T19:03:30.078349Z",
     "shell.execute_reply": "2025-07-06T19:03:30.077646Z"
    },
    "papermill": {
     "duration": 0.132784,
     "end_time": "2025-07-06T19:03:30.080415",
     "exception": false,
     "start_time": "2025-07-06T19:03:29.947631",
     "status": "completed"
    },
    "tags": []
   },
   "outputs": [],
   "source": [
    "import re\n",
    "\n",
    "def clean_data(text):\n",
    "    text = re.sub(r'#','',text)\n",
    "    text = re.sub(r'\\d+','',text)\n",
    "    text = re.sub(r'[^\\w\\s]','',text)\n",
    "    text = text.lower()\n",
    "    text = re.sub(r\"@\\w+\", \"\", text) \n",
    "    return text\n",
    "train['cleaned_text'] = train['text'].apply(clean_data)\n",
    "test['cleaned_text'] = test['text'].apply(clean_data)"
   ]
  },
  {
   "cell_type": "code",
   "execution_count": 7,
   "id": "86049311",
   "metadata": {
    "execution": {
     "iopub.execute_input": "2025-07-06T19:03:30.090981Z",
     "iopub.status.busy": "2025-07-06T19:03:30.090595Z",
     "iopub.status.idle": "2025-07-06T19:03:30.101579Z",
     "shell.execute_reply": "2025-07-06T19:03:30.100601Z"
    },
    "papermill": {
     "duration": 0.019321,
     "end_time": "2025-07-06T19:03:30.103340",
     "exception": false,
     "start_time": "2025-07-06T19:03:30.084019",
     "status": "completed"
    },
    "tags": []
   },
   "outputs": [
    {
     "data": {
      "text/html": [
       "<div>\n",
       "<style scoped>\n",
       "    .dataframe tbody tr th:only-of-type {\n",
       "        vertical-align: middle;\n",
       "    }\n",
       "\n",
       "    .dataframe tbody tr th {\n",
       "        vertical-align: top;\n",
       "    }\n",
       "\n",
       "    .dataframe thead th {\n",
       "        text-align: right;\n",
       "    }\n",
       "</style>\n",
       "<table border=\"1\" class=\"dataframe\">\n",
       "  <thead>\n",
       "    <tr style=\"text-align: right;\">\n",
       "      <th></th>\n",
       "      <th>keyword</th>\n",
       "      <th>location</th>\n",
       "      <th>text</th>\n",
       "      <th>target</th>\n",
       "      <th>cleaned_text</th>\n",
       "    </tr>\n",
       "  </thead>\n",
       "  <tbody>\n",
       "    <tr>\n",
       "      <th>0</th>\n",
       "      <td>NaN</td>\n",
       "      <td>NaN</td>\n",
       "      <td>Our Deeds are the Reason of this #earthquake M...</td>\n",
       "      <td>1</td>\n",
       "      <td>our deeds are the reason of this earthquake ma...</td>\n",
       "    </tr>\n",
       "    <tr>\n",
       "      <th>1</th>\n",
       "      <td>NaN</td>\n",
       "      <td>NaN</td>\n",
       "      <td>Forest fire near La Ronge Sask. Canada</td>\n",
       "      <td>1</td>\n",
       "      <td>forest fire near la ronge sask canada</td>\n",
       "    </tr>\n",
       "    <tr>\n",
       "      <th>2</th>\n",
       "      <td>NaN</td>\n",
       "      <td>NaN</td>\n",
       "      <td>All residents asked to 'shelter in place' are ...</td>\n",
       "      <td>1</td>\n",
       "      <td>all residents asked to shelter in place are be...</td>\n",
       "    </tr>\n",
       "    <tr>\n",
       "      <th>3</th>\n",
       "      <td>NaN</td>\n",
       "      <td>NaN</td>\n",
       "      <td>13,000 people receive #wildfires evacuation or...</td>\n",
       "      <td>1</td>\n",
       "      <td>people receive wildfires evacuation orders in...</td>\n",
       "    </tr>\n",
       "    <tr>\n",
       "      <th>4</th>\n",
       "      <td>NaN</td>\n",
       "      <td>NaN</td>\n",
       "      <td>Just got sent this photo from Ruby #Alaska as ...</td>\n",
       "      <td>1</td>\n",
       "      <td>just got sent this photo from ruby alaska as s...</td>\n",
       "    </tr>\n",
       "  </tbody>\n",
       "</table>\n",
       "</div>"
      ],
      "text/plain": [
       "  keyword location                                               text  target  \\\n",
       "0     NaN      NaN  Our Deeds are the Reason of this #earthquake M...       1   \n",
       "1     NaN      NaN             Forest fire near La Ronge Sask. Canada       1   \n",
       "2     NaN      NaN  All residents asked to 'shelter in place' are ...       1   \n",
       "3     NaN      NaN  13,000 people receive #wildfires evacuation or...       1   \n",
       "4     NaN      NaN  Just got sent this photo from Ruby #Alaska as ...       1   \n",
       "\n",
       "                                        cleaned_text  \n",
       "0  our deeds are the reason of this earthquake ma...  \n",
       "1              forest fire near la ronge sask canada  \n",
       "2  all residents asked to shelter in place are be...  \n",
       "3   people receive wildfires evacuation orders in...  \n",
       "4  just got sent this photo from ruby alaska as s...  "
      ]
     },
     "execution_count": 7,
     "metadata": {},
     "output_type": "execute_result"
    }
   ],
   "source": [
    "train.head()"
   ]
  },
  {
   "cell_type": "code",
   "execution_count": 8,
   "id": "1d1af56e",
   "metadata": {
    "execution": {
     "iopub.execute_input": "2025-07-06T19:03:30.112881Z",
     "iopub.status.busy": "2025-07-06T19:03:30.112569Z",
     "iopub.status.idle": "2025-07-06T19:03:30.122029Z",
     "shell.execute_reply": "2025-07-06T19:03:30.121239Z"
    },
    "papermill": {
     "duration": 0.01616,
     "end_time": "2025-07-06T19:03:30.123496",
     "exception": false,
     "start_time": "2025-07-06T19:03:30.107336",
     "status": "completed"
    },
    "tags": []
   },
   "outputs": [
    {
     "data": {
      "text/plain": [
       "keyword           61\n",
       "location        2533\n",
       "text               0\n",
       "target             0\n",
       "cleaned_text       0\n",
       "dtype: int64"
      ]
     },
     "execution_count": 8,
     "metadata": {},
     "output_type": "execute_result"
    }
   ],
   "source": [
    "train.isnull().sum()"
   ]
  },
  {
   "cell_type": "code",
   "execution_count": 9,
   "id": "ba59257b",
   "metadata": {
    "execution": {
     "iopub.execute_input": "2025-07-06T19:03:30.131919Z",
     "iopub.status.busy": "2025-07-06T19:03:30.131629Z",
     "iopub.status.idle": "2025-07-06T19:03:32.055304Z",
     "shell.execute_reply": "2025-07-06T19:03:32.054164Z"
    },
    "papermill": {
     "duration": 1.92998,
     "end_time": "2025-07-06T19:03:32.057252",
     "exception": false,
     "start_time": "2025-07-06T19:03:30.127272",
     "status": "completed"
    },
    "tags": []
   },
   "outputs": [],
   "source": [
    "from sklearn.feature_extraction.text import TfidfVectorizer\n",
    "\n",
    "vectorizer = TfidfVectorizer(max_features=6000)\n",
    "X_train = vectorizer.fit_transform(train['cleaned_text'])\n",
    "X_test = vectorizer.transform(test['cleaned_text'])\n",
    "y_train = train['target']"
   ]
  },
  {
   "cell_type": "code",
   "execution_count": 10,
   "id": "73d34d5a",
   "metadata": {
    "execution": {
     "iopub.execute_input": "2025-07-06T19:03:32.067110Z",
     "iopub.status.busy": "2025-07-06T19:03:32.066666Z",
     "iopub.status.idle": "2025-07-06T19:03:32.607638Z",
     "shell.execute_reply": "2025-07-06T19:03:32.606837Z"
    },
    "papermill": {
     "duration": 0.549821,
     "end_time": "2025-07-06T19:03:32.610812",
     "exception": false,
     "start_time": "2025-07-06T19:03:32.060991",
     "status": "completed"
    },
    "tags": []
   },
   "outputs": [
    {
     "data": {
      "text/plain": [
       "0.7455919395465994"
      ]
     },
     "execution_count": 10,
     "metadata": {},
     "output_type": "execute_result"
    }
   ],
   "source": [
    "from sklearn.model_selection import train_test_split\n",
    "from sklearn.linear_model import LogisticRegression\n",
    "from sklearn.metrics import f1_score\n",
    "\n",
    "X_tr, X_val, y_tr, y_val =train_test_split(X_train,y_train,test_size = 0.2,random_state = 42)\n",
    "\n",
    "model = LogisticRegression()\n",
    "model.fit(X_tr,y_tr)\n",
    "val_predi = model.predict(X_val)\n",
    "\n",
    "f1_score(y_val,val_predi)"
   ]
  },
  {
   "cell_type": "code",
   "execution_count": 11,
   "id": "b6e1cc96",
   "metadata": {
    "execution": {
     "iopub.execute_input": "2025-07-06T19:03:32.625120Z",
     "iopub.status.busy": "2025-07-06T19:03:32.624774Z",
     "iopub.status.idle": "2025-07-06T19:03:32.639434Z",
     "shell.execute_reply": "2025-07-06T19:03:32.638365Z"
    },
    "papermill": {
     "duration": 0.023892,
     "end_time": "2025-07-06T19:03:32.641464",
     "exception": false,
     "start_time": "2025-07-06T19:03:32.617572",
     "status": "completed"
    },
    "tags": []
   },
   "outputs": [],
   "source": [
    "submission = pd.read_csv(\"/kaggle/input/nlp-getting-started/sample_submission.csv\")"
   ]
  },
  {
   "cell_type": "code",
   "execution_count": 12,
   "id": "8d66793c",
   "metadata": {
    "execution": {
     "iopub.execute_input": "2025-07-06T19:03:32.656621Z",
     "iopub.status.busy": "2025-07-06T19:03:32.655100Z",
     "iopub.status.idle": "2025-07-06T19:03:32.674201Z",
     "shell.execute_reply": "2025-07-06T19:03:32.673409Z"
    },
    "papermill": {
     "duration": 0.029139,
     "end_time": "2025-07-06T19:03:32.676200",
     "exception": false,
     "start_time": "2025-07-06T19:03:32.647061",
     "status": "completed"
    },
    "tags": []
   },
   "outputs": [],
   "source": [
    "prediction = model.predict(X_test)\n",
    "submission['target'] = prediction\n",
    "submission.to_csv('submission.csv',index= False)"
   ]
  },
  {
   "cell_type": "code",
   "execution_count": null,
   "id": "bc04e045",
   "metadata": {
    "papermill": {
     "duration": 0.00532,
     "end_time": "2025-07-06T19:03:32.687720",
     "exception": false,
     "start_time": "2025-07-06T19:03:32.682400",
     "status": "completed"
    },
    "tags": []
   },
   "outputs": [],
   "source": []
  }
 ],
 "metadata": {
  "kaggle": {
   "accelerator": "none",
   "dataSources": [
    {
     "databundleVersionId": 869809,
     "sourceId": 17777,
     "sourceType": "competition"
    }
   ],
   "dockerImageVersionId": 31040,
   "isGpuEnabled": false,
   "isInternetEnabled": true,
   "language": "python",
   "sourceType": "notebook"
  },
  "kernelspec": {
   "display_name": "Python 3",
   "language": "python",
   "name": "python3"
  },
  "language_info": {
   "codemirror_mode": {
    "name": "ipython",
    "version": 3
   },
   "file_extension": ".py",
   "mimetype": "text/x-python",
   "name": "python",
   "nbconvert_exporter": "python",
   "pygments_lexer": "ipython3",
   "version": "3.11.11"
  },
  "papermill": {
   "default_parameters": {},
   "duration": 10.891941,
   "end_time": "2025-07-06T19:03:33.414602",
   "environment_variables": {},
   "exception": null,
   "input_path": "__notebook__.ipynb",
   "output_path": "__notebook__.ipynb",
   "parameters": {},
   "start_time": "2025-07-06T19:03:22.522661",
   "version": "2.6.0"
  }
 },
 "nbformat": 4,
 "nbformat_minor": 5
}
