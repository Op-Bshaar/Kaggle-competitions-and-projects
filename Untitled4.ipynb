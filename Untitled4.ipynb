{
 "cells": [
  {
   "cell_type": "code",
   "execution_count": 5,
   "id": "16b7b3ee-0425-4d9d-b6be-9400264c41d7",
   "metadata": {},
   "outputs": [
    {
     "name": "stderr",
     "output_type": "stream",
     "text": [
      "[nltk_data] Downloading package punkt to\n",
      "[nltk_data]     C:\\Users\\asus\\AppData\\Roaming\\nltk_data...\n",
      "[nltk_data]   Package punkt is already up-to-date!\n",
      "[nltk_data] Downloading package punkt_tab to\n",
      "[nltk_data]     C:\\Users\\asus\\AppData\\Roaming\\nltk_data...\n",
      "[nltk_data]   Unzipping tokenizers\\punkt_tab.zip.\n"
     ]
    },
    {
     "data": {
      "text/plain": [
       "True"
      ]
     },
     "execution_count": 5,
     "metadata": {},
     "output_type": "execute_result"
    }
   ],
   "source": [
    "import nltk\n",
    "from nltk.tokenize import word_tokenize\n",
    "nltk.download('punkt')\n",
    "nltk.download('punkt_tab')"
   ]
  },
  {
   "cell_type": "code",
   "execution_count": 6,
   "id": "5f902435-5905-4bc3-ba24-5d8e069840ce",
   "metadata": {},
   "outputs": [
    {
     "name": "stdout",
     "output_type": "stream",
     "text": [
      "Total Tokens: 125772\n"
     ]
    }
   ],
   "source": [
    "with open('sherlock-holm.es_stories_plain-text_advs.txt', 'r', encoding='utf-8') as f:\n",
    "    text = f.read().lower()\n",
    "\n",
    "tokens = word_tokenize(text)\n",
    "print(\"Total Tokens:\", len(tokens))"
   ]
  },
  {
   "cell_type": "code",
   "execution_count": 7,
   "id": "0c68d534-fb27-4609-8d45-406807d7f63c",
   "metadata": {},
   "outputs": [],
   "source": [
    "from collections import Counter"
   ]
  },
  {
   "cell_type": "code",
   "execution_count": 8,
   "id": "e0bb88d2-d19f-4536-a39b-17f8666f3fd4",
   "metadata": {},
   "outputs": [],
   "source": [
    "word_counts = Counter(tokens)\n",
    "vocab = sorted(word_counts, key=word_counts.get, reverse=True)\n",
    "\n",
    "word2idx = {word: idx for idx, word in enumerate(vocab)}\n",
    "idx2word = {idx: word for word, idx in word2idx.items()}\n",
    "vocab_size = len(vocab)"
   ]
  },
  {
   "cell_type": "code",
   "execution_count": 10,
   "id": "ab5c60b2-8d42-47e3-9616-120b4c1a170b",
   "metadata": {},
   "outputs": [],
   "source": [
    "import torch"
   ]
  },
  {
   "cell_type": "code",
   "execution_count": 13,
   "id": "479bb432-4d61-4564-b478-64351f2eb465",
   "metadata": {},
   "outputs": [],
   "source": [
    "sequence_length = 4  \n",
    "\n",
    "data = []\n",
    "for i in range(len(tokens) - sequence_length):\n",
    "    input_seq = tokens[i:i + sequence_length - 1]\n",
    "    target = tokens[i + sequence_length - 1]\n",
    "    data.append((input_seq, target))\n",
    "\n",
    "\n",
    "def encode(seq): return [word2idx[word] for word in seq]\n",
    "\n",
    "encoded_data = [(torch.tensor(encode(inp)), torch.tensor(word2idx[target]))\n",
    "                for inp, target in data]"
   ]
  },
  {
   "cell_type": "code",
   "execution_count": 14,
   "id": "087a3cd3-8236-48e0-ac37-e27b9da305a3",
   "metadata": {},
   "outputs": [],
   "source": [
    "import torch.nn as nn\n",
    "\n",
    "class PredictiveKeyboard(nn.Module):\n",
    "    def __init__(self, vocab_size, embed_dim=64, hidden_dim=128):\n",
    "        super(PredictiveKeyboard, self).__init__()\n",
    "        self.embedding = nn.Embedding(vocab_size, embed_dim)\n",
    "        self.lstm = nn.LSTM(embed_dim, hidden_dim, batch_first=True)\n",
    "        self.fc = nn.Linear(hidden_dim, vocab_size)\n",
    "\n",
    "    def forward(self, x):\n",
    "        x = self.embedding(x)\n",
    "        output, _ = self.lstm(x)\n",
    "        output = self.fc(output[:, -1, :]) \n",
    "        return output"
   ]
  },
  {
   "cell_type": "code",
   "execution_count": null,
   "id": "2004c333-65e2-40fc-85dd-c2092e8bf80a",
   "metadata": {},
   "outputs": [
    {
     "name": "stdout",
     "output_type": "stream",
     "text": [
      "Epoch 1, Loss: 65704.1024\n",
      "Epoch 2, Loss: 67860.4622\n"
     ]
    }
   ],
   "source": [
    "import torch\n",
    "import torch.optim as optim\n",
    "import random\n",
    "\n",
    "model = PredictiveKeyboard(vocab_size)\n",
    "criterion = nn.CrossEntropyLoss()\n",
    "optimizer = optim.Adam(model.parameters(), lr=0.005)\n",
    "\n",
    "epochs = 20\n",
    "for epoch in range(epochs):\n",
    "    total_loss = 0\n",
    "    random.shuffle(encoded_data)\n",
    "    for input_seq, target in encoded_data[:10000]:  \n",
    "        input_seq = input_seq.unsqueeze(0)\n",
    "        output = model(input_seq)\n",
    "        loss = criterion(output, target.unsqueeze(0))\n",
    "\n",
    "        optimizer.zero_grad()\n",
    "        loss.backward()\n",
    "        optimizer.step()\n",
    "        total_loss += loss.item()\n",
    "\n",
    "    print(f\"Epoch {epoch+1}, Loss: {total_loss:.4f}\")"
   ]
  },
  {
   "cell_type": "code",
   "execution_count": null,
   "id": "bbcaba94-315a-44b9-bacf-8e35698df3b2",
   "metadata": {},
   "outputs": [],
   "source": [
    "import torch.nn.functional as F\n",
    "\n",
    "def suggest_next_words(model, text_prompt, top_k=3):\n",
    "    model.eval()\n",
    "    tokens = word_tokenize(text_prompt.lower())\n",
    "    if len(tokens) < sequence_length - 1:\n",
    "        raise ValueError(f\"Input should be at least {sequence_length - 1} words long.\")\n",
    "\n",
    "    input_seq = tokens[-(sequence_length - 1):]\n",
    "    input_tensor = torch.tensor(encode(input_seq)).unsqueeze(0)\n",
    "\n",
    "    with torch.no_grad():\n",
    "        output = model(input_tensor)\n",
    "        probs = F.softmax(output, dim=1).squeeze()\n",
    "        top_indices = torch.topk(probs, top_k).indices.tolist()\n",
    "\n",
    "    return [idx2word[idx] for idx in top_indices]\n",
    "\n",
    "print(\"Suggestions:\", suggest_next_words(model, \"So, are we really at\"))"
   ]
  },
  {
   "cell_type": "code",
   "execution_count": null,
   "id": "f6c3d463-8f22-428a-bc0a-29fc5521d1a3",
   "metadata": {},
   "outputs": [],
   "source": []
  }
 ],
 "metadata": {
  "kernelspec": {
   "display_name": "Python [conda env:base] *",
   "language": "python",
   "name": "conda-base-py"
  },
  "language_info": {
   "codemirror_mode": {
    "name": "ipython",
    "version": 3
   },
   "file_extension": ".py",
   "mimetype": "text/x-python",
   "name": "python",
   "nbconvert_exporter": "python",
   "pygments_lexer": "ipython3",
   "version": "3.12.7"
  }
 },
 "nbformat": 4,
 "nbformat_minor": 5
}
