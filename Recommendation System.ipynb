{
 "cells": [
  {
   "cell_type": "code",
   "execution_count": 24,
   "id": "7312904d-6410-40de-904f-2e1333093a6d",
   "metadata": {},
   "outputs": [],
   "source": [
    "import pandas as pd\n",
    "import tensorflow as tf\n",
    "from tensorflow.keras import layers, Model\n",
    "import numpy as np"
   ]
  },
  {
   "cell_type": "code",
   "execution_count": 2,
   "id": "b1f8ad2a-b6ff-4729-8e6d-20948e48c39c",
   "metadata": {},
   "outputs": [
    {
     "data": {
      "text/html": [
       "<div>\n",
       "<style scoped>\n",
       "    .dataframe tbody tr th:only-of-type {\n",
       "        vertical-align: middle;\n",
       "    }\n",
       "\n",
       "    .dataframe tbody tr th {\n",
       "        vertical-align: top;\n",
       "    }\n",
       "\n",
       "    .dataframe thead th {\n",
       "        text-align: right;\n",
       "    }\n",
       "</style>\n",
       "<table border=\"1\" class=\"dataframe\">\n",
       "  <thead>\n",
       "    <tr style=\"text-align: right;\">\n",
       "      <th></th>\n",
       "      <th>Title</th>\n",
       "      <th>Available Globally?</th>\n",
       "      <th>Release Date</th>\n",
       "      <th>Hours Viewed</th>\n",
       "      <th>Language Indicator</th>\n",
       "      <th>Content Type</th>\n",
       "    </tr>\n",
       "  </thead>\n",
       "  <tbody>\n",
       "    <tr>\n",
       "      <th>0</th>\n",
       "      <td>The Night Agent: Season 1</td>\n",
       "      <td>Yes</td>\n",
       "      <td>2023-03-23</td>\n",
       "      <td>81,21,00,000</td>\n",
       "      <td>English</td>\n",
       "      <td>Show</td>\n",
       "    </tr>\n",
       "    <tr>\n",
       "      <th>1</th>\n",
       "      <td>Ginny &amp; Georgia: Season 2</td>\n",
       "      <td>Yes</td>\n",
       "      <td>2023-01-05</td>\n",
       "      <td>66,51,00,000</td>\n",
       "      <td>English</td>\n",
       "      <td>Show</td>\n",
       "    </tr>\n",
       "    <tr>\n",
       "      <th>2</th>\n",
       "      <td>The Glory: Season 1 // 더 글로리: 시즌 1</td>\n",
       "      <td>Yes</td>\n",
       "      <td>2022-12-30</td>\n",
       "      <td>62,28,00,000</td>\n",
       "      <td>Korean</td>\n",
       "      <td>Show</td>\n",
       "    </tr>\n",
       "    <tr>\n",
       "      <th>3</th>\n",
       "      <td>Wednesday: Season 1</td>\n",
       "      <td>Yes</td>\n",
       "      <td>2022-11-23</td>\n",
       "      <td>50,77,00,000</td>\n",
       "      <td>English</td>\n",
       "      <td>Show</td>\n",
       "    </tr>\n",
       "    <tr>\n",
       "      <th>4</th>\n",
       "      <td>Queen Charlotte: A Bridgerton Story</td>\n",
       "      <td>Yes</td>\n",
       "      <td>2023-05-04</td>\n",
       "      <td>50,30,00,000</td>\n",
       "      <td>English</td>\n",
       "      <td>Movie</td>\n",
       "    </tr>\n",
       "    <tr>\n",
       "      <th>...</th>\n",
       "      <td>...</td>\n",
       "      <td>...</td>\n",
       "      <td>...</td>\n",
       "      <td>...</td>\n",
       "      <td>...</td>\n",
       "      <td>...</td>\n",
       "    </tr>\n",
       "    <tr>\n",
       "      <th>24807</th>\n",
       "      <td>We Are Black and British: Season 1</td>\n",
       "      <td>No</td>\n",
       "      <td>NaN</td>\n",
       "      <td>1,00,000</td>\n",
       "      <td>English</td>\n",
       "      <td>Show</td>\n",
       "    </tr>\n",
       "    <tr>\n",
       "      <th>24808</th>\n",
       "      <td>Whitney Cummings: Can I Touch It?</td>\n",
       "      <td>Yes</td>\n",
       "      <td>2019-07-30</td>\n",
       "      <td>1,00,000</td>\n",
       "      <td>English</td>\n",
       "      <td>Movie</td>\n",
       "    </tr>\n",
       "    <tr>\n",
       "      <th>24809</th>\n",
       "      <td>Whitney Cummings: Jokes</td>\n",
       "      <td>No</td>\n",
       "      <td>2022-07-26</td>\n",
       "      <td>1,00,000</td>\n",
       "      <td>English</td>\n",
       "      <td>Movie</td>\n",
       "    </tr>\n",
       "    <tr>\n",
       "      <th>24810</th>\n",
       "      <td>Whose Vote Counts, Explained: Limited Series</td>\n",
       "      <td>Yes</td>\n",
       "      <td>2020-09-28</td>\n",
       "      <td>1,00,000</td>\n",
       "      <td>English</td>\n",
       "      <td>Movie</td>\n",
       "    </tr>\n",
       "    <tr>\n",
       "      <th>24811</th>\n",
       "      <td>Zach Galifianakis: Live at the Purple Onion</td>\n",
       "      <td>No</td>\n",
       "      <td>NaN</td>\n",
       "      <td>1,00,000</td>\n",
       "      <td>English</td>\n",
       "      <td>Movie</td>\n",
       "    </tr>\n",
       "  </tbody>\n",
       "</table>\n",
       "<p>24812 rows × 6 columns</p>\n",
       "</div>"
      ],
      "text/plain": [
       "                                              Title Available Globally?  \\\n",
       "0                         The Night Agent: Season 1                 Yes   \n",
       "1                         Ginny & Georgia: Season 2                 Yes   \n",
       "2                The Glory: Season 1 // 더 글로리: 시즌 1                 Yes   \n",
       "3                               Wednesday: Season 1                 Yes   \n",
       "4               Queen Charlotte: A Bridgerton Story                 Yes   \n",
       "...                                             ...                 ...   \n",
       "24807            We Are Black and British: Season 1                  No   \n",
       "24808             Whitney Cummings: Can I Touch It?                 Yes   \n",
       "24809                       Whitney Cummings: Jokes                  No   \n",
       "24810  Whose Vote Counts, Explained: Limited Series                 Yes   \n",
       "24811   Zach Galifianakis: Live at the Purple Onion                  No   \n",
       "\n",
       "      Release Date  Hours Viewed Language Indicator Content Type  \n",
       "0       2023-03-23  81,21,00,000            English         Show  \n",
       "1       2023-01-05  66,51,00,000            English         Show  \n",
       "2       2022-12-30  62,28,00,000             Korean         Show  \n",
       "3       2022-11-23  50,77,00,000            English         Show  \n",
       "4       2023-05-04  50,30,00,000            English        Movie  \n",
       "...            ...           ...                ...          ...  \n",
       "24807          NaN      1,00,000            English         Show  \n",
       "24808   2019-07-30      1,00,000            English        Movie  \n",
       "24809   2022-07-26      1,00,000            English        Movie  \n",
       "24810   2020-09-28      1,00,000            English        Movie  \n",
       "24811          NaN      1,00,000            English        Movie  \n",
       "\n",
       "[24812 rows x 6 columns]"
      ]
     },
     "execution_count": 2,
     "metadata": {},
     "output_type": "execute_result"
    }
   ],
   "source": [
    "df = pd.read_csv('netflix_content.csv')\n",
    "df"
   ]
  },
  {
   "cell_type": "code",
   "execution_count": 3,
   "id": "72aebccc-f5c3-4579-9638-9c2a9a316b94",
   "metadata": {},
   "outputs": [
    {
     "data": {
      "text/plain": [
       "Title                      0\n",
       "Available Globally?        0\n",
       "Release Date           16646\n",
       "Hours Viewed               0\n",
       "Language Indicator         0\n",
       "Content Type               0\n",
       "dtype: int64"
      ]
     },
     "execution_count": 3,
     "metadata": {},
     "output_type": "execute_result"
    }
   ],
   "source": [
    "df.isnull().sum()"
   ]
  },
  {
   "cell_type": "code",
   "execution_count": 4,
   "id": "099de348-5241-4fa5-b1a8-c208e1d1a046",
   "metadata": {},
   "outputs": [
    {
     "data": {
      "text/plain": [
       "467"
      ]
     },
     "execution_count": 4,
     "metadata": {},
     "output_type": "execute_result"
    }
   ],
   "source": [
    "df.duplicated().sum()"
   ]
  },
  {
   "cell_type": "code",
   "execution_count": 5,
   "id": "077cd34f-4161-49ee-ae51-d7bb22671f1e",
   "metadata": {},
   "outputs": [
    {
     "data": {
      "text/html": [
       "<div>\n",
       "<style scoped>\n",
       "    .dataframe tbody tr th:only-of-type {\n",
       "        vertical-align: middle;\n",
       "    }\n",
       "\n",
       "    .dataframe tbody tr th {\n",
       "        vertical-align: top;\n",
       "    }\n",
       "\n",
       "    .dataframe thead th {\n",
       "        text-align: right;\n",
       "    }\n",
       "</style>\n",
       "<table border=\"1\" class=\"dataframe\">\n",
       "  <thead>\n",
       "    <tr style=\"text-align: right;\">\n",
       "      <th></th>\n",
       "      <th>Title</th>\n",
       "      <th>Available Globally?</th>\n",
       "      <th>Release Date</th>\n",
       "      <th>Hours Viewed</th>\n",
       "      <th>Language Indicator</th>\n",
       "      <th>Content Type</th>\n",
       "    </tr>\n",
       "  </thead>\n",
       "  <tbody>\n",
       "    <tr>\n",
       "      <th>0</th>\n",
       "      <td>The Night Agent: Season 1</td>\n",
       "      <td>Yes</td>\n",
       "      <td>2023-03-23</td>\n",
       "      <td>81,21,00,000</td>\n",
       "      <td>English</td>\n",
       "      <td>Show</td>\n",
       "    </tr>\n",
       "    <tr>\n",
       "      <th>1</th>\n",
       "      <td>Ginny &amp; Georgia: Season 2</td>\n",
       "      <td>Yes</td>\n",
       "      <td>2023-01-05</td>\n",
       "      <td>66,51,00,000</td>\n",
       "      <td>English</td>\n",
       "      <td>Show</td>\n",
       "    </tr>\n",
       "    <tr>\n",
       "      <th>2</th>\n",
       "      <td>The Glory: Season 1 // 더 글로리: 시즌 1</td>\n",
       "      <td>Yes</td>\n",
       "      <td>2022-12-30</td>\n",
       "      <td>62,28,00,000</td>\n",
       "      <td>Korean</td>\n",
       "      <td>Show</td>\n",
       "    </tr>\n",
       "    <tr>\n",
       "      <th>3</th>\n",
       "      <td>Wednesday: Season 1</td>\n",
       "      <td>Yes</td>\n",
       "      <td>2022-11-23</td>\n",
       "      <td>50,77,00,000</td>\n",
       "      <td>English</td>\n",
       "      <td>Show</td>\n",
       "    </tr>\n",
       "    <tr>\n",
       "      <th>4</th>\n",
       "      <td>Queen Charlotte: A Bridgerton Story</td>\n",
       "      <td>Yes</td>\n",
       "      <td>2023-05-04</td>\n",
       "      <td>50,30,00,000</td>\n",
       "      <td>English</td>\n",
       "      <td>Movie</td>\n",
       "    </tr>\n",
       "    <tr>\n",
       "      <th>...</th>\n",
       "      <td>...</td>\n",
       "      <td>...</td>\n",
       "      <td>...</td>\n",
       "      <td>...</td>\n",
       "      <td>...</td>\n",
       "      <td>...</td>\n",
       "    </tr>\n",
       "    <tr>\n",
       "      <th>24798</th>\n",
       "      <td>Transformers: Cyberverse: Season 4</td>\n",
       "      <td>No</td>\n",
       "      <td>NaN</td>\n",
       "      <td>1,00,000</td>\n",
       "      <td>English</td>\n",
       "      <td>Show</td>\n",
       "    </tr>\n",
       "    <tr>\n",
       "      <th>24799</th>\n",
       "      <td>Travel Man: 48 Hours in...: Season 9</td>\n",
       "      <td>No</td>\n",
       "      <td>NaN</td>\n",
       "      <td>1,00,000</td>\n",
       "      <td>English</td>\n",
       "      <td>Show</td>\n",
       "    </tr>\n",
       "    <tr>\n",
       "      <th>24800</th>\n",
       "      <td>Two Weeks to a Stronger Core: Volume 1</td>\n",
       "      <td>Yes</td>\n",
       "      <td>NaN</td>\n",
       "      <td>1,00,000</td>\n",
       "      <td>English</td>\n",
       "      <td>Movie</td>\n",
       "    </tr>\n",
       "    <tr>\n",
       "      <th>24804</th>\n",
       "      <td>Vir Das: For India</td>\n",
       "      <td>Yes</td>\n",
       "      <td>2020-01-26</td>\n",
       "      <td>1,00,000</td>\n",
       "      <td>English</td>\n",
       "      <td>Movie</td>\n",
       "    </tr>\n",
       "    <tr>\n",
       "      <th>24807</th>\n",
       "      <td>We Are Black and British: Season 1</td>\n",
       "      <td>No</td>\n",
       "      <td>NaN</td>\n",
       "      <td>1,00,000</td>\n",
       "      <td>English</td>\n",
       "      <td>Show</td>\n",
       "    </tr>\n",
       "  </tbody>\n",
       "</table>\n",
       "<p>24345 rows × 6 columns</p>\n",
       "</div>"
      ],
      "text/plain": [
       "                                        Title Available Globally?  \\\n",
       "0                   The Night Agent: Season 1                 Yes   \n",
       "1                   Ginny & Georgia: Season 2                 Yes   \n",
       "2          The Glory: Season 1 // 더 글로리: 시즌 1                 Yes   \n",
       "3                         Wednesday: Season 1                 Yes   \n",
       "4         Queen Charlotte: A Bridgerton Story                 Yes   \n",
       "...                                       ...                 ...   \n",
       "24798      Transformers: Cyberverse: Season 4                  No   \n",
       "24799    Travel Man: 48 Hours in...: Season 9                  No   \n",
       "24800  Two Weeks to a Stronger Core: Volume 1                 Yes   \n",
       "24804                      Vir Das: For India                 Yes   \n",
       "24807      We Are Black and British: Season 1                  No   \n",
       "\n",
       "      Release Date  Hours Viewed Language Indicator Content Type  \n",
       "0       2023-03-23  81,21,00,000            English         Show  \n",
       "1       2023-01-05  66,51,00,000            English         Show  \n",
       "2       2022-12-30  62,28,00,000             Korean         Show  \n",
       "3       2022-11-23  50,77,00,000            English         Show  \n",
       "4       2023-05-04  50,30,00,000            English        Movie  \n",
       "...            ...           ...                ...          ...  \n",
       "24798          NaN      1,00,000            English         Show  \n",
       "24799          NaN      1,00,000            English         Show  \n",
       "24800          NaN      1,00,000            English        Movie  \n",
       "24804   2020-01-26      1,00,000            English        Movie  \n",
       "24807          NaN      1,00,000            English         Show  \n",
       "\n",
       "[24345 rows x 6 columns]"
      ]
     },
     "execution_count": 5,
     "metadata": {},
     "output_type": "execute_result"
    }
   ],
   "source": [
    "df.drop_duplicates()"
   ]
  },
  {
   "cell_type": "code",
   "execution_count": 6,
   "id": "c2b7fb0f-41ef-4695-8682-ae7630cc1414",
   "metadata": {},
   "outputs": [
    {
     "data": {
      "text/plain": [
       "Title                  object\n",
       "Available Globally?    object\n",
       "Release Date           object\n",
       "Hours Viewed           object\n",
       "Language Indicator     object\n",
       "Content Type           object\n",
       "dtype: object"
      ]
     },
     "execution_count": 6,
     "metadata": {},
     "output_type": "execute_result"
    }
   ],
   "source": [
    "df.dtypes\n"
   ]
  },
  {
   "cell_type": "code",
   "execution_count": 7,
   "id": "0953f83c-098c-4ecc-b0b8-c65a947b196d",
   "metadata": {},
   "outputs": [],
   "source": [
    "df['Hours Viewed'] = df['Hours Viewed'].str.replace(',','',regex = False).astype('int')"
   ]
  },
  {
   "cell_type": "code",
   "execution_count": 8,
   "id": "9573b69d-19b3-42a1-adb6-368adf5216ba",
   "metadata": {},
   "outputs": [],
   "source": [
    "df['Content_ID'] = df.reset_index().index.astype('int32')"
   ]
  },
  {
   "cell_type": "code",
   "execution_count": 9,
   "id": "57c43bfb-d090-4a35-9588-61ad3d3e7558",
   "metadata": {},
   "outputs": [],
   "source": [
    "df['Language_Id'] = df['Language Indicator'].astype('category').cat.codes"
   ]
  },
  {
   "cell_type": "code",
   "execution_count": 10,
   "id": "5ca6f93a-bc05-4dbd-ba44-b888bba68b3b",
   "metadata": {},
   "outputs": [],
   "source": [
    "df['Content_Type_Id'] = df['Content Type'].astype('category').cat.codes"
   ]
  },
  {
   "cell_type": "code",
   "execution_count": 11,
   "id": "9287d39a-ca0c-43c9-b7d7-cafbc2ae1f70",
   "metadata": {},
   "outputs": [
    {
     "data": {
      "text/html": [
       "<div>\n",
       "<style scoped>\n",
       "    .dataframe tbody tr th:only-of-type {\n",
       "        vertical-align: middle;\n",
       "    }\n",
       "\n",
       "    .dataframe tbody tr th {\n",
       "        vertical-align: top;\n",
       "    }\n",
       "\n",
       "    .dataframe thead th {\n",
       "        text-align: right;\n",
       "    }\n",
       "</style>\n",
       "<table border=\"1\" class=\"dataframe\">\n",
       "  <thead>\n",
       "    <tr style=\"text-align: right;\">\n",
       "      <th></th>\n",
       "      <th>Content_ID</th>\n",
       "      <th>Title</th>\n",
       "      <th>Hours Viewed</th>\n",
       "      <th>Language_Id</th>\n",
       "      <th>Content_Type_Id</th>\n",
       "    </tr>\n",
       "  </thead>\n",
       "  <tbody>\n",
       "    <tr>\n",
       "      <th>0</th>\n",
       "      <td>0</td>\n",
       "      <td>The Night Agent: Season 1</td>\n",
       "      <td>812100000</td>\n",
       "      <td>0</td>\n",
       "      <td>1</td>\n",
       "    </tr>\n",
       "    <tr>\n",
       "      <th>1</th>\n",
       "      <td>1</td>\n",
       "      <td>Ginny &amp; Georgia: Season 2</td>\n",
       "      <td>665100000</td>\n",
       "      <td>0</td>\n",
       "      <td>1</td>\n",
       "    </tr>\n",
       "    <tr>\n",
       "      <th>2</th>\n",
       "      <td>2</td>\n",
       "      <td>The Glory: Season 1 // 더 글로리: 시즌 1</td>\n",
       "      <td>622800000</td>\n",
       "      <td>3</td>\n",
       "      <td>1</td>\n",
       "    </tr>\n",
       "    <tr>\n",
       "      <th>3</th>\n",
       "      <td>3</td>\n",
       "      <td>Wednesday: Season 1</td>\n",
       "      <td>507700000</td>\n",
       "      <td>0</td>\n",
       "      <td>1</td>\n",
       "    </tr>\n",
       "    <tr>\n",
       "      <th>4</th>\n",
       "      <td>4</td>\n",
       "      <td>Queen Charlotte: A Bridgerton Story</td>\n",
       "      <td>503000000</td>\n",
       "      <td>0</td>\n",
       "      <td>0</td>\n",
       "    </tr>\n",
       "  </tbody>\n",
       "</table>\n",
       "</div>"
      ],
      "text/plain": [
       "   Content_ID                                Title  Hours Viewed  Language_Id  \\\n",
       "0           0            The Night Agent: Season 1     812100000            0   \n",
       "1           1            Ginny & Georgia: Season 2     665100000            0   \n",
       "2           2   The Glory: Season 1 // 더 글로리: 시즌 1     622800000            3   \n",
       "3           3                  Wednesday: Season 1     507700000            0   \n",
       "4           4  Queen Charlotte: A Bridgerton Story     503000000            0   \n",
       "\n",
       "   Content_Type_Id  \n",
       "0                1  \n",
       "1                1  \n",
       "2                1  \n",
       "3                1  \n",
       "4                0  "
      ]
     },
     "execution_count": 11,
     "metadata": {},
     "output_type": "execute_result"
    }
   ],
   "source": [
    "df[['Content_ID', 'Title', 'Hours Viewed', 'Language_Id', 'Content_Type_Id']].head()"
   ]
  },
  {
   "cell_type": "code",
   "execution_count": 13,
   "id": "ce4aa233-a6ef-49c7-87b5-81bf396512b4",
   "metadata": {},
   "outputs": [],
   "source": [
    "num_contents = df['Content_ID'].nunique()\n",
    "num_languages = df['Language_Id'].nunique()\n",
    "num_types = df['Content_Type_Id'].nunique()"
   ]
  },
  {
   "cell_type": "code",
   "execution_count": 15,
   "id": "603ccd5b-9d6f-42e6-8b28-b9c9b1a3c243",
   "metadata": {},
   "outputs": [],
   "source": [
    "content_input = layers.Input(shape=(1,),dtype = tf.int32,name = 'content_id')\n",
    "language_input = layers.Input(shape=(1,),dtype = tf.int32,name = 'language_id')\n",
    "contenttype_input = layers.Input(shape=(1,),dtype = tf.int32,name = 'content_type')\n"
   ]
  },
  {
   "cell_type": "code",
   "execution_count": 16,
   "id": "59db0d0c-be71-46dc-b6fc-1cc9a3feffd1",
   "metadata": {},
   "outputs": [],
   "source": [
    "content_embedding = layers.Embedding(input_dim = num_contents+1,output_dim = 32)(content_input)\n",
    "language_embedding = layers.Embedding(input_dim = num_languages+1,output_dim = 8)(language_input)\n",
    "contenttype_embedding = layers.Embedding(input_dim = num_types+1,output_dim = 4)(contenttype_input)"
   ]
  },
  {
   "cell_type": "code",
   "execution_count": 17,
   "id": "75219222-5590-4b96-988b-ff4fd1fa427e",
   "metadata": {},
   "outputs": [],
   "source": [
    "content_flat = layers.Flatten()(content_embedding)\n",
    "language_flat = layers.Flatten()(language_embedding)\n",
    "contenttype_flat = layers.Flatten()(contenttype_embedding)"
   ]
  },
  {
   "cell_type": "code",
   "execution_count": 19,
   "id": "ee60aca1-fbb6-432c-933c-1ac4333520ff",
   "metadata": {},
   "outputs": [],
   "source": [
    "combine = layers.Concatenate()([content_flat,language_flat,contenttype_flat])\n",
    "X = layers.Dense(64,activation = 'relu')(combine)\n",
    "X = layers.Dense(32,activation = 'relu')(X)\n",
    "output = layers.Dense(num_contents,activation = 'softmax')(X)"
   ]
  },
  {
   "cell_type": "code",
   "execution_count": 21,
   "id": "426b7d0f-7b5b-4a1b-b176-5798ac40e202",
   "metadata": {},
   "outputs": [],
   "source": [
    "model = Model(inputs = [content_input,language_input,contenttype_input],outputs = output)\n",
    "model.compile(optimizer='adam', loss='sparse_categorical_crossentropy', metrics=['accuracy'])"
   ]
  },
  {
   "cell_type": "code",
   "execution_count": 23,
   "id": "d26a984c-cd13-4462-848e-0bd129e13a33",
   "metadata": {},
   "outputs": [
    {
     "name": "stdout",
     "output_type": "stream",
     "text": [
      "Epoch 1/5\n",
      "\u001b[1m388/388\u001b[0m \u001b[32m━━━━━━━━━━━━━━━━━━━━\u001b[0m\u001b[37m\u001b[0m \u001b[1m10s\u001b[0m 21ms/step - accuracy: 0.0000e+00 - loss: 10.1425\n",
      "Epoch 2/5\n",
      "\u001b[1m388/388\u001b[0m \u001b[32m━━━━━━━━━━━━━━━━━━━━\u001b[0m\u001b[37m\u001b[0m \u001b[1m8s\u001b[0m 22ms/step - accuracy: 0.0000e+00 - loss: 10.1267\n",
      "Epoch 3/5\n",
      "\u001b[1m388/388\u001b[0m \u001b[32m━━━━━━━━━━━━━━━━━━━━\u001b[0m\u001b[37m\u001b[0m \u001b[1m8s\u001b[0m 21ms/step - accuracy: 7.3178e-04 - loss: 9.8674\n",
      "Epoch 4/5\n",
      "\u001b[1m388/388\u001b[0m \u001b[32m━━━━━━━━━━━━━━━━━━━━\u001b[0m\u001b[37m\u001b[0m \u001b[1m8s\u001b[0m 21ms/step - accuracy: 0.0115 - loss: 8.3849\n",
      "Epoch 5/5\n",
      "\u001b[1m388/388\u001b[0m \u001b[32m━━━━━━━━━━━━━━━━━━━━\u001b[0m\u001b[37m\u001b[0m \u001b[1m9s\u001b[0m 22ms/step - accuracy: 0.1104 - loss: 6.2169\n"
     ]
    },
    {
     "data": {
      "text/plain": [
       "<keras.src.callbacks.history.History at 0x24397ef3c20>"
      ]
     },
     "execution_count": 23,
     "metadata": {},
     "output_type": "execute_result"
    }
   ],
   "source": [
    "model.fit(\n",
    "    x={\n",
    "        'content_id': df['Content_ID'],\n",
    "        'language_id': df['Language_Id'],\n",
    "        'content_type': df['Content_Type_Id']\n",
    "    },\n",
    "    y=df['Content_ID'],\n",
    "    epochs=5,\n",
    "    batch_size=64\n",
    ")"
   ]
  },
  {
   "cell_type": "code",
   "execution_count": 33,
   "id": "ffd4e066-301d-4355-b647-5f3cc64599dc",
   "metadata": {},
   "outputs": [
    {
     "name": "stdout",
     "output_type": "stream",
     "text": [
      "\u001b[1m1/1\u001b[0m \u001b[32m━━━━━━━━━━━━━━━━━━━━\u001b[0m\u001b[37m\u001b[0m \u001b[1m0s\u001b[0m 60ms/step\n"
     ]
    },
    {
     "data": {
      "text/html": [
       "<div>\n",
       "<style scoped>\n",
       "    .dataframe tbody tr th:only-of-type {\n",
       "        vertical-align: middle;\n",
       "    }\n",
       "\n",
       "    .dataframe tbody tr th {\n",
       "        vertical-align: top;\n",
       "    }\n",
       "\n",
       "    .dataframe thead th {\n",
       "        text-align: right;\n",
       "    }\n",
       "</style>\n",
       "<table border=\"1\" class=\"dataframe\">\n",
       "  <thead>\n",
       "    <tr style=\"text-align: right;\">\n",
       "      <th></th>\n",
       "      <th>Title</th>\n",
       "      <th>Language Indicator</th>\n",
       "      <th>Content Type</th>\n",
       "      <th>Hours Viewed</th>\n",
       "    </tr>\n",
       "  </thead>\n",
       "  <tbody>\n",
       "    <tr>\n",
       "      <th>2497</th>\n",
       "      <td>Secret Obsession</td>\n",
       "      <td>English</td>\n",
       "      <td>Movie</td>\n",
       "      <td>8000000</td>\n",
       "    </tr>\n",
       "    <tr>\n",
       "      <th>7594</th>\n",
       "      <td>Christmas Under Wraps</td>\n",
       "      <td>English</td>\n",
       "      <td>Movie</td>\n",
       "      <td>1100000</td>\n",
       "    </tr>\n",
       "    <tr>\n",
       "      <th>10986</th>\n",
       "      <td>Mucho Mucho Amor: The Legend of Walter Mercado</td>\n",
       "      <td>English</td>\n",
       "      <td>Movie</td>\n",
       "      <td>400000</td>\n",
       "    </tr>\n",
       "    <tr>\n",
       "      <th>12646</th>\n",
       "      <td>Aurora</td>\n",
       "      <td>English</td>\n",
       "      <td>Movie</td>\n",
       "      <td>200000</td>\n",
       "    </tr>\n",
       "    <tr>\n",
       "      <th>15525</th>\n",
       "      <td>Genius (2018)</td>\n",
       "      <td>English</td>\n",
       "      <td>Movie</td>\n",
       "      <td>100000</td>\n",
       "    </tr>\n",
       "    <tr>\n",
       "      <th>22360</th>\n",
       "      <td>Peep Show: Series 9</td>\n",
       "      <td>English</td>\n",
       "      <td>Movie</td>\n",
       "      <td>800000</td>\n",
       "    </tr>\n",
       "  </tbody>\n",
       "</table>\n",
       "</div>"
      ],
      "text/plain": [
       "                                                Title Language Indicator  \\\n",
       "2497                                 Secret Obsession            English   \n",
       "7594                            Christmas Under Wraps            English   \n",
       "10986  Mucho Mucho Amor: The Legend of Walter Mercado            English   \n",
       "12646                                          Aurora            English   \n",
       "15525                                   Genius (2018)            English   \n",
       "22360                             Peep Show: Series 9            English   \n",
       "\n",
       "      Content Type  Hours Viewed  \n",
       "2497         Movie       8000000  \n",
       "7594         Movie       1100000  \n",
       "10986        Movie        400000  \n",
       "12646        Movie        200000  \n",
       "15525        Movie        100000  \n",
       "22360        Movie        800000  "
      ]
     },
     "execution_count": 33,
     "metadata": {},
     "output_type": "execute_result"
    }
   ],
   "source": [
    "def recomended(content_title, top_k=5):\n",
    "    content_row = df[df['Title'].str.contains(content_title,case = False,na = False)].iloc[0]\n",
    "    content_id = content_row['Content_ID']\n",
    "    language_id = content_row['Language_Id']\n",
    "    contenttype_id = content_row['Content_Type_Id']\n",
    "\n",
    "    predictions = model.predict({\n",
    "       'content_id' : np.array([content_id]),\n",
    "       'language_id' : np.array([language_id]),\n",
    "       'content_type' : np.array([contenttype_id])\n",
    "    })\n",
    "\n",
    "    top_indices = predictions[0].argsort()[-top_k-1:][::-1]\n",
    "    recommdataion = df[df['Content_ID'].isin(top_indices)]\n",
    "    return recommdataion[['Title','Language Indicator','Content Type','Hours Viewed']]\n",
    "recomended('Stranger Things')"
   ]
  },
  {
   "cell_type": "code",
   "execution_count": null,
   "id": "a2ee259c-f14d-47f5-b219-8c7f27645d8d",
   "metadata": {},
   "outputs": [],
   "source": []
  },
  {
   "cell_type": "code",
   "execution_count": null,
   "id": "0e2cd526-22ef-4299-8de7-931cafe3992e",
   "metadata": {},
   "outputs": [],
   "source": []
  },
  {
   "cell_type": "code",
   "execution_count": null,
   "id": "41b2df43-6410-47a8-a6f2-4d4924af4fa5",
   "metadata": {},
   "outputs": [],
   "source": []
  },
  {
   "cell_type": "code",
   "execution_count": null,
   "id": "408623d5-2d7f-4620-91f1-400874dc8e1d",
   "metadata": {},
   "outputs": [],
   "source": []
  },
  {
   "cell_type": "code",
   "execution_count": null,
   "id": "5cd49fc1-421a-4131-abd5-4fecff7bcf88",
   "metadata": {},
   "outputs": [],
   "source": []
  },
  {
   "cell_type": "code",
   "execution_count": null,
   "id": "90a533b7-d933-4c51-8a07-6b7bc6bc42d6",
   "metadata": {},
   "outputs": [],
   "source": []
  },
  {
   "cell_type": "code",
   "execution_count": null,
   "id": "7b1d21df-f06b-463b-86c9-bc8cb152bcaf",
   "metadata": {},
   "outputs": [],
   "source": []
  },
  {
   "cell_type": "code",
   "execution_count": null,
   "id": "50c46ccf-289c-4eb1-a28a-1a4eee201512",
   "metadata": {},
   "outputs": [],
   "source": []
  },
  {
   "cell_type": "code",
   "execution_count": null,
   "id": "df9df5d8-59f1-40ba-a091-4df5fc3189db",
   "metadata": {},
   "outputs": [],
   "source": []
  },
  {
   "cell_type": "code",
   "execution_count": null,
   "id": "4078bc85-d18c-45c1-bf28-14b56947ba28",
   "metadata": {},
   "outputs": [],
   "source": []
  },
  {
   "cell_type": "code",
   "execution_count": null,
   "id": "1980993b-bd34-4fdd-a991-b1875222d02c",
   "metadata": {},
   "outputs": [],
   "source": []
  }
 ],
 "metadata": {
  "kernelspec": {
   "display_name": "Python [conda env:base] *",
   "language": "python",
   "name": "conda-base-py"
  },
  "language_info": {
   "codemirror_mode": {
    "name": "ipython",
    "version": 3
   },
   "file_extension": ".py",
   "mimetype": "text/x-python",
   "name": "python",
   "nbconvert_exporter": "python",
   "pygments_lexer": "ipython3",
   "version": "3.12.7"
  }
 },
 "nbformat": 4,
 "nbformat_minor": 5
}
